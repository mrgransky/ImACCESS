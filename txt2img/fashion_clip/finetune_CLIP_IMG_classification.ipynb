{
 "cells": [
  {
   "cell_type": "markdown",
   "metadata": {
    "id": "sajEdGfQbfsv"
   },
   "source": [
    "## Fine-Tuning CLIP Model for Image Classification"
   ]
  },
  {
   "cell_type": "markdown",
   "metadata": {},
   "source": [
    "### **1. Imports**"
   ]
  },
  {
   "cell_type": "code",
   "execution_count": 1,
   "metadata": {},
   "outputs": [
    {
     "name": "stdout",
     "output_type": "stream",
     "text": [
      "Current working directory: /home/farid/WS_Farid/ImACCESS/txt2img/fashion_clip\n",
      "Initial System path for farid: ['/home/farid/miniconda3/envs/py39/lib/python39.zip', '/home/farid/miniconda3/envs/py39/lib/python3.9', '/home/farid/miniconda3/envs/py39/lib/python3.9/lib-dynload', '', '/home/farid/miniconda3/envs/py39/lib/python3.9/site-packages']\n",
      "/home/farid farid /home/farid/WS_Farid/ImACCESS /home/farid/WS_Farid/ImACCESS/clip\n",
      "System path for farid after inserting customized CLIP: ['/home/farid/WS_Farid/ImACCESS/clip', '/home/farid/miniconda3/envs/py39/lib/python39.zip', '/home/farid/miniconda3/envs/py39/lib/python3.9', '/home/farid/miniconda3/envs/py39/lib/python3.9/lib-dynload', '', '/home/farid/miniconda3/envs/py39/lib/python3.9/site-packages']\n"
     ]
    }
   ],
   "source": [
    "import os\n",
    "import sys\n",
    "\n",
    "HOME: str = os.getenv('HOME') # echo $HOME\n",
    "USER: str = os.getenv('USER') # echo $USER\n",
    "print(f\"Current working directory: {os.getcwd()}\")\n",
    "print(f\"Initial System path for {USER}: {sys.path}\")\n",
    "\n",
    "# Add the clip directory to the sys.path list\n",
    "IMACCESS_PROJECT_WORKSPACE = os.path.join(HOME, \"WS_Farid\", \"ImACCESS\")\n",
    "CLIP_DIR = os.path.join(IMACCESS_PROJECT_WORKSPACE, \"clip\")\n",
    "print(HOME, USER, IMACCESS_PROJECT_WORKSPACE, CLIP_DIR)\n",
    "sys.path.insert(0, CLIP_DIR)\n",
    "print(f\"System path for {USER} after inserting customized CLIP: {sys.path}\")\n",
    "\n",
    "import torch\n",
    "import random\n",
    "from torchvision import transforms\n",
    "from torch.utils.data import Dataset\n",
    "from torch.utils.data import random_split\n",
    "from torch.utils.data import DataLoader\n",
    "import torch.nn as nn\n",
    "import torch.optim as optim\n",
    "\n",
    "from tqdm import tqdm\n",
    "import numpy as np\n",
    "import pandas as pd\n",
    "import matplotlib.pyplot as plt\n",
    "from PIL import Image\n",
    "\n",
    "device = torch.device(\"cuda\" if torch.cuda.is_available() else \"cpu\")"
   ]
  },
  {
   "cell_type": "markdown",
   "metadata": {
    "id": "I6C25At3eOoS"
   },
   "source": [
    "### **2. Load a Dataset**"
   ]
  },
  {
   "cell_type": "markdown",
   "metadata": {
    "id": "o8e8mhLOeTGe"
   },
   "source": [
    "To perform fine-tuning, we will use a small image classification dataset. We’ll use the `ceyda/fashion-products-small` dataset which is a collection of fashion products."
   ]
  },
  {
   "cell_type": "code",
   "execution_count": 2,
   "metadata": {
    "colab": {
     "base_uri": "https://localhost:8080/",
     "height": 55
    },
    "collapsed": true,
    "id": "MlMfCsuYfKRA",
    "outputId": "19281673-cb94-4e8c-c33e-714edec33c0b"
   },
   "outputs": [
    {
     "name": "stderr",
     "output_type": "stream",
     "text": [
      "Repo card metadata block was not found. Setting CardData to empty.\n"
     ]
    }
   ],
   "source": [
    "from datasets import load_dataset\n",
    "ds = load_dataset('ceyda/fashion-products-small')"
   ]
  },
  {
   "cell_type": "markdown",
   "metadata": {
    "id": "FP4NxlJ_gtr5"
   },
   "source": [
    "Let's take a look at the features inside this dataset:"
   ]
  },
  {
   "cell_type": "code",
   "execution_count": 3,
   "metadata": {
    "colab": {
     "base_uri": "https://localhost:8080/"
    },
    "id": "_0LUqcsMgr3W",
    "outputId": "781b2c2e-1eb5-49db-8508-28cd20d78013"
   },
   "outputs": [
    {
     "name": "stdout",
     "output_type": "stream",
     "text": [
      "<class 'datasets.dataset_dict.DatasetDict'> 1\n",
      "DatasetDict({\n",
      "    train: Dataset({\n",
      "        features: ['filename', 'link', 'id', 'masterCategory', 'gender', 'subCategory', 'image'],\n",
      "        num_rows: 42700\n",
      "    })\n",
      "})\n"
     ]
    }
   ],
   "source": [
    "print(type(ds), len(ds))\n",
    "print(ds)"
   ]
  },
  {
   "cell_type": "code",
   "execution_count": 4,
   "metadata": {},
   "outputs": [
    {
     "data": {
      "text/html": [
       "<div>\n",
       "<style scoped>\n",
       "    .dataframe tbody tr th:only-of-type {\n",
       "        vertical-align: middle;\n",
       "    }\n",
       "\n",
       "    .dataframe tbody tr th {\n",
       "        vertical-align: top;\n",
       "    }\n",
       "\n",
       "    .dataframe thead th {\n",
       "        text-align: right;\n",
       "    }\n",
       "</style>\n",
       "<table border=\"1\" class=\"dataframe\">\n",
       "  <thead>\n",
       "    <tr style=\"text-align: right;\">\n",
       "      <th></th>\n",
       "      <th>filename</th>\n",
       "      <th>link</th>\n",
       "      <th>id</th>\n",
       "      <th>masterCategory</th>\n",
       "      <th>gender</th>\n",
       "      <th>subCategory</th>\n",
       "      <th>image</th>\n",
       "    </tr>\n",
       "  </thead>\n",
       "  <tbody>\n",
       "    <tr>\n",
       "      <th>0</th>\n",
       "      <td>15970.jpg</td>\n",
       "      <td>http://assets.myntassets.com/v1/images/style/p...</td>\n",
       "      <td>15970</td>\n",
       "      <td>Apparel</td>\n",
       "      <td>Men</td>\n",
       "      <td>Topwear</td>\n",
       "      <td>&lt;PIL.JpegImagePlugin.JpegImageFile image mode=...</td>\n",
       "    </tr>\n",
       "    <tr>\n",
       "      <th>1</th>\n",
       "      <td>39386.jpg</td>\n",
       "      <td>http://assets.myntassets.com/v1/images/style/p...</td>\n",
       "      <td>39386</td>\n",
       "      <td>Apparel</td>\n",
       "      <td>Men</td>\n",
       "      <td>Bottomwear</td>\n",
       "      <td>&lt;PIL.JpegImagePlugin.JpegImageFile image mode=...</td>\n",
       "    </tr>\n",
       "    <tr>\n",
       "      <th>2</th>\n",
       "      <td>59263.jpg</td>\n",
       "      <td>http://assets.myntassets.com/v1/images/style/p...</td>\n",
       "      <td>59263</td>\n",
       "      <td>Accessories</td>\n",
       "      <td>Women</td>\n",
       "      <td>Watches</td>\n",
       "      <td>&lt;PIL.JpegImagePlugin.JpegImageFile image mode=...</td>\n",
       "    </tr>\n",
       "    <tr>\n",
       "      <th>3</th>\n",
       "      <td>21379.jpg</td>\n",
       "      <td>http://assets.myntassets.com/v1/images/style/p...</td>\n",
       "      <td>21379</td>\n",
       "      <td>Apparel</td>\n",
       "      <td>Men</td>\n",
       "      <td>Bottomwear</td>\n",
       "      <td>&lt;PIL.JpegImagePlugin.JpegImageFile image mode=...</td>\n",
       "    </tr>\n",
       "    <tr>\n",
       "      <th>4</th>\n",
       "      <td>53759.jpg</td>\n",
       "      <td>http://assets.myntassets.com/v1/images/style/p...</td>\n",
       "      <td>53759</td>\n",
       "      <td>Apparel</td>\n",
       "      <td>Men</td>\n",
       "      <td>Topwear</td>\n",
       "      <td>&lt;PIL.JpegImagePlugin.JpegImageFile image mode=...</td>\n",
       "    </tr>\n",
       "    <tr>\n",
       "      <th>5</th>\n",
       "      <td>1855.jpg</td>\n",
       "      <td>http://assets.myntassets.com/v1/images/style/p...</td>\n",
       "      <td>1855</td>\n",
       "      <td>Apparel</td>\n",
       "      <td>Men</td>\n",
       "      <td>Topwear</td>\n",
       "      <td>&lt;PIL.JpegImagePlugin.JpegImageFile image mode=...</td>\n",
       "    </tr>\n",
       "    <tr>\n",
       "      <th>6</th>\n",
       "      <td>30805.jpg</td>\n",
       "      <td>http://assets.myntassets.com/v1/images/style/p...</td>\n",
       "      <td>30805</td>\n",
       "      <td>Apparel</td>\n",
       "      <td>Men</td>\n",
       "      <td>Topwear</td>\n",
       "      <td>&lt;PIL.JpegImagePlugin.JpegImageFile image mode=...</td>\n",
       "    </tr>\n",
       "    <tr>\n",
       "      <th>7</th>\n",
       "      <td>26960.jpg</td>\n",
       "      <td>http://assets.myntassets.com/v1/images/style/p...</td>\n",
       "      <td>26960</td>\n",
       "      <td>Apparel</td>\n",
       "      <td>Women</td>\n",
       "      <td>Topwear</td>\n",
       "      <td>&lt;PIL.JpegImagePlugin.JpegImageFile image mode=...</td>\n",
       "    </tr>\n",
       "    <tr>\n",
       "      <th>8</th>\n",
       "      <td>29114.jpg</td>\n",
       "      <td>http://assets.myntassets.com/v1/images/style/p...</td>\n",
       "      <td>29114</td>\n",
       "      <td>Accessories</td>\n",
       "      <td>Men</td>\n",
       "      <td>Socks</td>\n",
       "      <td>&lt;PIL.JpegImagePlugin.JpegImageFile image mode=...</td>\n",
       "    </tr>\n",
       "    <tr>\n",
       "      <th>9</th>\n",
       "      <td>30039.jpg</td>\n",
       "      <td>http://assets.myntassets.com/v1/images/style/p...</td>\n",
       "      <td>30039</td>\n",
       "      <td>Accessories</td>\n",
       "      <td>Men</td>\n",
       "      <td>Watches</td>\n",
       "      <td>&lt;PIL.JpegImagePlugin.JpegImageFile image mode=...</td>\n",
       "    </tr>\n",
       "    <tr>\n",
       "      <th>10</th>\n",
       "      <td>9204.jpg</td>\n",
       "      <td>http://assets.myntassets.com/v1/images/style/p...</td>\n",
       "      <td>9204</td>\n",
       "      <td>Footwear</td>\n",
       "      <td>Men</td>\n",
       "      <td>Shoes</td>\n",
       "      <td>&lt;PIL.JpegImagePlugin.JpegImageFile image mode=...</td>\n",
       "    </tr>\n",
       "    <tr>\n",
       "      <th>11</th>\n",
       "      <td>48123.jpg</td>\n",
       "      <td>http://assets.myntassets.com/v1/images/style/p...</td>\n",
       "      <td>48123</td>\n",
       "      <td>Accessories</td>\n",
       "      <td>Women</td>\n",
       "      <td>Belts</td>\n",
       "      <td>&lt;PIL.JpegImagePlugin.JpegImageFile image mode=...</td>\n",
       "    </tr>\n",
       "    <tr>\n",
       "      <th>12</th>\n",
       "      <td>18653.jpg</td>\n",
       "      <td>http://assets.myntassets.com/v1/images/style/p...</td>\n",
       "      <td>18653</td>\n",
       "      <td>Footwear</td>\n",
       "      <td>Men</td>\n",
       "      <td>Flip Flops</td>\n",
       "      <td>&lt;PIL.JpegImagePlugin.JpegImageFile image mode=...</td>\n",
       "    </tr>\n",
       "    <tr>\n",
       "      <th>13</th>\n",
       "      <td>47957.jpg</td>\n",
       "      <td>http://assets.myntassets.com/v1/images/style/p...</td>\n",
       "      <td>47957</td>\n",
       "      <td>Accessories</td>\n",
       "      <td>Women</td>\n",
       "      <td>Bags</td>\n",
       "      <td>&lt;PIL.JpegImagePlugin.JpegImageFile image mode=...</td>\n",
       "    </tr>\n",
       "    <tr>\n",
       "      <th>14</th>\n",
       "      <td>46885.jpg</td>\n",
       "      <td>http://assets.myntassets.com/v1/images/style/p...</td>\n",
       "      <td>46885</td>\n",
       "      <td>Footwear</td>\n",
       "      <td>Boys</td>\n",
       "      <td>Flip Flops</td>\n",
       "      <td>&lt;PIL.JpegImagePlugin.JpegImageFile image mode=...</td>\n",
       "    </tr>\n",
       "    <tr>\n",
       "      <th>15</th>\n",
       "      <td>12369.jpg</td>\n",
       "      <td>http://assets.myntassets.com/v1/images/style/p...</td>\n",
       "      <td>12369</td>\n",
       "      <td>Apparel</td>\n",
       "      <td>Men</td>\n",
       "      <td>Topwear</td>\n",
       "      <td>&lt;PIL.JpegImagePlugin.JpegImageFile image mode=...</td>\n",
       "    </tr>\n",
       "    <tr>\n",
       "      <th>16</th>\n",
       "      <td>29928.jpg</td>\n",
       "      <td>http://assets.myntassets.com/v1/images/style/p...</td>\n",
       "      <td>29928</td>\n",
       "      <td>Accessories</td>\n",
       "      <td>Men</td>\n",
       "      <td>Watches</td>\n",
       "      <td>&lt;PIL.JpegImagePlugin.JpegImageFile image mode=...</td>\n",
       "    </tr>\n",
       "    <tr>\n",
       "      <th>17</th>\n",
       "      <td>42419.jpg</td>\n",
       "      <td>http://assets.myntassets.com/v1/images/style/p...</td>\n",
       "      <td>42419</td>\n",
       "      <td>Apparel</td>\n",
       "      <td>Girls</td>\n",
       "      <td>Topwear</td>\n",
       "      <td>&lt;PIL.JpegImagePlugin.JpegImageFile image mode=...</td>\n",
       "    </tr>\n",
       "    <tr>\n",
       "      <th>18</th>\n",
       "      <td>51832.jpg</td>\n",
       "      <td>http://assets.myntassets.com/v1/image/style/pr...</td>\n",
       "      <td>51832</td>\n",
       "      <td>Apparel</td>\n",
       "      <td>Women</td>\n",
       "      <td>Innerwear</td>\n",
       "      <td>&lt;PIL.JpegImagePlugin.JpegImageFile image mode=...</td>\n",
       "    </tr>\n",
       "    <tr>\n",
       "      <th>19</th>\n",
       "      <td>47359.jpg</td>\n",
       "      <td>http://assets.myntassets.com/v1/images/style/p...</td>\n",
       "      <td>47359</td>\n",
       "      <td>Accessories</td>\n",
       "      <td>Women</td>\n",
       "      <td>Bags</td>\n",
       "      <td>&lt;PIL.JpegImagePlugin.JpegImageFile image mode=...</td>\n",
       "    </tr>\n",
       "    <tr>\n",
       "      <th>20</th>\n",
       "      <td>17429.jpg</td>\n",
       "      <td>http://assets.myntassets.com/assets/images/174...</td>\n",
       "      <td>17429</td>\n",
       "      <td>Accessories</td>\n",
       "      <td>Men</td>\n",
       "      <td>Watches</td>\n",
       "      <td>&lt;PIL.JpegImagePlugin.JpegImageFile image mode=...</td>\n",
       "    </tr>\n",
       "    <tr>\n",
       "      <th>21</th>\n",
       "      <td>12967.jpg</td>\n",
       "      <td>http://assets.myntassets.com/v1/images/style/p...</td>\n",
       "      <td>12967</td>\n",
       "      <td>Footwear</td>\n",
       "      <td>Men</td>\n",
       "      <td>Sandal</td>\n",
       "      <td>&lt;PIL.JpegImagePlugin.JpegImageFile image mode=...</td>\n",
       "    </tr>\n",
       "    <tr>\n",
       "      <th>22</th>\n",
       "      <td>6842.jpg</td>\n",
       "      <td>http://assets.myntassets.com/v1/images/style/p...</td>\n",
       "      <td>6842</td>\n",
       "      <td>Accessories</td>\n",
       "      <td>Unisex</td>\n",
       "      <td>Shoe Accessories</td>\n",
       "      <td>&lt;PIL.JpegImagePlugin.JpegImageFile image mode=...</td>\n",
       "    </tr>\n",
       "    <tr>\n",
       "      <th>23</th>\n",
       "      <td>13089.jpg</td>\n",
       "      <td>http://assets.myntassets.com/v1/images/style/p...</td>\n",
       "      <td>13089</td>\n",
       "      <td>Apparel</td>\n",
       "      <td>Men</td>\n",
       "      <td>Topwear</td>\n",
       "      <td>&lt;PIL.JpegImagePlugin.JpegImageFile image mode=...</td>\n",
       "    </tr>\n",
       "    <tr>\n",
       "      <th>24</th>\n",
       "      <td>18461.jpg</td>\n",
       "      <td>http://assets.myntassets.com/v1/images/style/p...</td>\n",
       "      <td>18461</td>\n",
       "      <td>Personal Care</td>\n",
       "      <td>Men</td>\n",
       "      <td>Fragrance</td>\n",
       "      <td>&lt;PIL.JpegImagePlugin.JpegImageFile image mode=...</td>\n",
       "    </tr>\n",
       "    <tr>\n",
       "      <th>25</th>\n",
       "      <td>9036.jpg</td>\n",
       "      <td>http://assets.myntassets.com/v1/images/style/p...</td>\n",
       "      <td>9036</td>\n",
       "      <td>Footwear</td>\n",
       "      <td>Men</td>\n",
       "      <td>Shoes</td>\n",
       "      <td>&lt;PIL.JpegImagePlugin.JpegImageFile image mode=...</td>\n",
       "    </tr>\n",
       "    <tr>\n",
       "      <th>26</th>\n",
       "      <td>48311.jpg</td>\n",
       "      <td>http://assets.myntassets.com/v1/images/style/p...</td>\n",
       "      <td>48311</td>\n",
       "      <td>Accessories</td>\n",
       "      <td>Women</td>\n",
       "      <td>Jewellery</td>\n",
       "      <td>&lt;PIL.JpegImagePlugin.JpegImageFile image mode=...</td>\n",
       "    </tr>\n",
       "    <tr>\n",
       "      <th>27</th>\n",
       "      <td>7990.jpg</td>\n",
       "      <td>http://assets.myntassets.com/v1/images/style/p...</td>\n",
       "      <td>7990</td>\n",
       "      <td>Apparel</td>\n",
       "      <td>Men</td>\n",
       "      <td>Topwear</td>\n",
       "      <td>&lt;PIL.JpegImagePlugin.JpegImageFile image mode=...</td>\n",
       "    </tr>\n",
       "    <tr>\n",
       "      <th>28</th>\n",
       "      <td>21977.jpg</td>\n",
       "      <td>http://assets.myntassets.com/v1/images/style/p...</td>\n",
       "      <td>21977</td>\n",
       "      <td>Accessories</td>\n",
       "      <td>Women</td>\n",
       "      <td>Bags</td>\n",
       "      <td>&lt;PIL.JpegImagePlugin.JpegImageFile image mode=...</td>\n",
       "    </tr>\n",
       "    <tr>\n",
       "      <th>29</th>\n",
       "      <td>37812.jpg</td>\n",
       "      <td>http://assets.myntassets.com/v1/images/style/p...</td>\n",
       "      <td>37812</td>\n",
       "      <td>Apparel</td>\n",
       "      <td>Men</td>\n",
       "      <td>Topwear</td>\n",
       "      <td>&lt;PIL.JpegImagePlugin.JpegImageFile image mode=...</td>\n",
       "    </tr>\n",
       "    <tr>\n",
       "      <th>30</th>\n",
       "      <td>56825.jpg</td>\n",
       "      <td>http://assets.myntassets.com/v1/images/style/p...</td>\n",
       "      <td>56825</td>\n",
       "      <td>Apparel</td>\n",
       "      <td>Men</td>\n",
       "      <td>Topwear</td>\n",
       "      <td>&lt;PIL.JpegImagePlugin.JpegImageFile image mode=...</td>\n",
       "    </tr>\n",
       "    <tr>\n",
       "      <th>31</th>\n",
       "      <td>39988.jpg</td>\n",
       "      <td>http://assets.myntassets.com/v1/images/style/p...</td>\n",
       "      <td>39988</td>\n",
       "      <td>Footwear</td>\n",
       "      <td>Men</td>\n",
       "      <td>Shoes</td>\n",
       "      <td>&lt;PIL.JpegImagePlugin.JpegImageFile image mode=...</td>\n",
       "    </tr>\n",
       "    <tr>\n",
       "      <th>32</th>\n",
       "      <td>59051.jpg</td>\n",
       "      <td>http://assets.myntassets.com/v1/images/style/p...</td>\n",
       "      <td>59051</td>\n",
       "      <td>Footwear</td>\n",
       "      <td>Women</td>\n",
       "      <td>Shoes</td>\n",
       "      <td>&lt;PIL.JpegImagePlugin.JpegImageFile image mode=...</td>\n",
       "    </tr>\n",
       "    <tr>\n",
       "      <th>33</th>\n",
       "      <td>20099.jpg</td>\n",
       "      <td>http://assets.myntassets.com/v1/images/style/p...</td>\n",
       "      <td>20099</td>\n",
       "      <td>Apparel</td>\n",
       "      <td>Women</td>\n",
       "      <td>Topwear</td>\n",
       "      <td>&lt;PIL.JpegImagePlugin.JpegImageFile image mode=...</td>\n",
       "    </tr>\n",
       "    <tr>\n",
       "      <th>34</th>\n",
       "      <td>58183.jpg</td>\n",
       "      <td>http://assets.myntassets.com/v1/images/style/p...</td>\n",
       "      <td>58183</td>\n",
       "      <td>Accessories</td>\n",
       "      <td>Women</td>\n",
       "      <td>Bags</td>\n",
       "      <td>&lt;PIL.JpegImagePlugin.JpegImageFile image mode=...</td>\n",
       "    </tr>\n",
       "    <tr>\n",
       "      <th>35</th>\n",
       "      <td>29742.jpg</td>\n",
       "      <td>http://assets.myntassets.com/v1/images/style/p...</td>\n",
       "      <td>29742</td>\n",
       "      <td>Accessories</td>\n",
       "      <td>Women</td>\n",
       "      <td>Bags</td>\n",
       "      <td>&lt;PIL.JpegImagePlugin.JpegImageFile image mode=...</td>\n",
       "    </tr>\n",
       "    <tr>\n",
       "      <th>36</th>\n",
       "      <td>51658.jpg</td>\n",
       "      <td>http://assets.myntassets.com/v1/images/style/p...</td>\n",
       "      <td>51658</td>\n",
       "      <td>Accessories</td>\n",
       "      <td>Women</td>\n",
       "      <td>Watches</td>\n",
       "      <td>&lt;PIL.JpegImagePlugin.JpegImageFile image mode=...</td>\n",
       "    </tr>\n",
       "    <tr>\n",
       "      <th>37</th>\n",
       "      <td>3954.jpg</td>\n",
       "      <td>http://assets.myntassets.com/v1/images/style/p...</td>\n",
       "      <td>3954</td>\n",
       "      <td>Apparel</td>\n",
       "      <td>Women</td>\n",
       "      <td>Topwear</td>\n",
       "      <td>&lt;PIL.JpegImagePlugin.JpegImageFile image mode=...</td>\n",
       "    </tr>\n",
       "    <tr>\n",
       "      <th>38</th>\n",
       "      <td>18839.jpg</td>\n",
       "      <td>http://assets.myntassets.com/v1/images/style/p...</td>\n",
       "      <td>18839</td>\n",
       "      <td>Accessories</td>\n",
       "      <td>Men</td>\n",
       "      <td>Belts</td>\n",
       "      <td>&lt;PIL.JpegImagePlugin.JpegImageFile image mode=...</td>\n",
       "    </tr>\n",
       "    <tr>\n",
       "      <th>39</th>\n",
       "      <td>2886.jpg</td>\n",
       "      <td>http://assets.myntassets.com/v1/images/style/p...</td>\n",
       "      <td>2886</td>\n",
       "      <td>Footwear</td>\n",
       "      <td>Women</td>\n",
       "      <td>Shoes</td>\n",
       "      <td>&lt;PIL.JpegImagePlugin.JpegImageFile image mode=...</td>\n",
       "    </tr>\n",
       "    <tr>\n",
       "      <th>40</th>\n",
       "      <td>23278.jpg</td>\n",
       "      <td>http://assets.myntassets.com/v1/images/style/p...</td>\n",
       "      <td>23278</td>\n",
       "      <td>Accessories</td>\n",
       "      <td>Men</td>\n",
       "      <td>Watches</td>\n",
       "      <td>&lt;PIL.JpegImagePlugin.JpegImageFile image mode=...</td>\n",
       "    </tr>\n",
       "    <tr>\n",
       "      <th>41</th>\n",
       "      <td>28690.jpg</td>\n",
       "      <td>http://assets.myntassets.com/v1/images/style/p...</td>\n",
       "      <td>28690</td>\n",
       "      <td>Apparel</td>\n",
       "      <td>Women</td>\n",
       "      <td>Topwear</td>\n",
       "      <td>&lt;PIL.JpegImagePlugin.JpegImageFile image mode=...</td>\n",
       "    </tr>\n",
       "    <tr>\n",
       "      <th>42</th>\n",
       "      <td>8580.jpg</td>\n",
       "      <td>http://assets.myntassets.com/v1/images/style/p...</td>\n",
       "      <td>8580</td>\n",
       "      <td>Apparel</td>\n",
       "      <td>Men</td>\n",
       "      <td>Topwear</td>\n",
       "      <td>&lt;PIL.JpegImagePlugin.JpegImageFile image mode=...</td>\n",
       "    </tr>\n",
       "    <tr>\n",
       "      <th>43</th>\n",
       "      <td>3168.jpg</td>\n",
       "      <td>http://assets.myntassets.com/v1/images/style/p...</td>\n",
       "      <td>3168</td>\n",
       "      <td>Footwear</td>\n",
       "      <td>Men</td>\n",
       "      <td>Shoes</td>\n",
       "      <td>&lt;PIL.JpegImagePlugin.JpegImageFile image mode=...</td>\n",
       "    </tr>\n",
       "    <tr>\n",
       "      <th>44</th>\n",
       "      <td>18005.jpg</td>\n",
       "      <td>http://assets.myntassets.com/v1/images/style/p...</td>\n",
       "      <td>18005</td>\n",
       "      <td>Apparel</td>\n",
       "      <td>Men</td>\n",
       "      <td>Bottomwear</td>\n",
       "      <td>&lt;PIL.JpegImagePlugin.JpegImageFile image mode=...</td>\n",
       "    </tr>\n",
       "    <tr>\n",
       "      <th>45</th>\n",
       "      <td>17871.jpg</td>\n",
       "      <td>http://assets.myntassets.com/v1/images/style/p...</td>\n",
       "      <td>17871</td>\n",
       "      <td>Apparel</td>\n",
       "      <td>Men</td>\n",
       "      <td>Innerwear</td>\n",
       "      <td>&lt;PIL.JpegImagePlugin.JpegImageFile image mode=...</td>\n",
       "    </tr>\n",
       "    <tr>\n",
       "      <th>46</th>\n",
       "      <td>38402.jpg</td>\n",
       "      <td>http://assets.myntassets.com/v1/images/style/p...</td>\n",
       "      <td>38402</td>\n",
       "      <td>Accessories</td>\n",
       "      <td>Women</td>\n",
       "      <td>Belts</td>\n",
       "      <td>&lt;PIL.JpegImagePlugin.JpegImageFile image mode=...</td>\n",
       "    </tr>\n",
       "    <tr>\n",
       "      <th>47</th>\n",
       "      <td>44984.jpg</td>\n",
       "      <td>http://assets.myntassets.com/v1/images/style/p...</td>\n",
       "      <td>44984</td>\n",
       "      <td>Accessories</td>\n",
       "      <td>Women</td>\n",
       "      <td>Watches</td>\n",
       "      <td>&lt;PIL.JpegImagePlugin.JpegImageFile image mode=...</td>\n",
       "    </tr>\n",
       "    <tr>\n",
       "      <th>48</th>\n",
       "      <td>10268.jpg</td>\n",
       "      <td>http://assets.myntassets.com/v1/images/style/p...</td>\n",
       "      <td>10268</td>\n",
       "      <td>Footwear</td>\n",
       "      <td>Men</td>\n",
       "      <td>Shoes</td>\n",
       "      <td>&lt;PIL.JpegImagePlugin.JpegImageFile image mode=...</td>\n",
       "    </tr>\n",
       "    <tr>\n",
       "      <th>49</th>\n",
       "      <td>45856.jpg</td>\n",
       "      <td>http://assets.myntassets.com/v1/images/style/p...</td>\n",
       "      <td>45856</td>\n",
       "      <td>Apparel</td>\n",
       "      <td>Women</td>\n",
       "      <td>Topwear</td>\n",
       "      <td>&lt;PIL.JpegImagePlugin.JpegImageFile image mode=...</td>\n",
       "    </tr>\n",
       "  </tbody>\n",
       "</table>\n",
       "</div>"
      ],
      "text/plain": [
       "     filename                                               link     id  \\\n",
       "0   15970.jpg  http://assets.myntassets.com/v1/images/style/p...  15970   \n",
       "1   39386.jpg  http://assets.myntassets.com/v1/images/style/p...  39386   \n",
       "2   59263.jpg  http://assets.myntassets.com/v1/images/style/p...  59263   \n",
       "3   21379.jpg  http://assets.myntassets.com/v1/images/style/p...  21379   \n",
       "4   53759.jpg  http://assets.myntassets.com/v1/images/style/p...  53759   \n",
       "5    1855.jpg  http://assets.myntassets.com/v1/images/style/p...   1855   \n",
       "6   30805.jpg  http://assets.myntassets.com/v1/images/style/p...  30805   \n",
       "7   26960.jpg  http://assets.myntassets.com/v1/images/style/p...  26960   \n",
       "8   29114.jpg  http://assets.myntassets.com/v1/images/style/p...  29114   \n",
       "9   30039.jpg  http://assets.myntassets.com/v1/images/style/p...  30039   \n",
       "10   9204.jpg  http://assets.myntassets.com/v1/images/style/p...   9204   \n",
       "11  48123.jpg  http://assets.myntassets.com/v1/images/style/p...  48123   \n",
       "12  18653.jpg  http://assets.myntassets.com/v1/images/style/p...  18653   \n",
       "13  47957.jpg  http://assets.myntassets.com/v1/images/style/p...  47957   \n",
       "14  46885.jpg  http://assets.myntassets.com/v1/images/style/p...  46885   \n",
       "15  12369.jpg  http://assets.myntassets.com/v1/images/style/p...  12369   \n",
       "16  29928.jpg  http://assets.myntassets.com/v1/images/style/p...  29928   \n",
       "17  42419.jpg  http://assets.myntassets.com/v1/images/style/p...  42419   \n",
       "18  51832.jpg  http://assets.myntassets.com/v1/image/style/pr...  51832   \n",
       "19  47359.jpg  http://assets.myntassets.com/v1/images/style/p...  47359   \n",
       "20  17429.jpg  http://assets.myntassets.com/assets/images/174...  17429   \n",
       "21  12967.jpg  http://assets.myntassets.com/v1/images/style/p...  12967   \n",
       "22   6842.jpg  http://assets.myntassets.com/v1/images/style/p...   6842   \n",
       "23  13089.jpg  http://assets.myntassets.com/v1/images/style/p...  13089   \n",
       "24  18461.jpg  http://assets.myntassets.com/v1/images/style/p...  18461   \n",
       "25   9036.jpg  http://assets.myntassets.com/v1/images/style/p...   9036   \n",
       "26  48311.jpg  http://assets.myntassets.com/v1/images/style/p...  48311   \n",
       "27   7990.jpg  http://assets.myntassets.com/v1/images/style/p...   7990   \n",
       "28  21977.jpg  http://assets.myntassets.com/v1/images/style/p...  21977   \n",
       "29  37812.jpg  http://assets.myntassets.com/v1/images/style/p...  37812   \n",
       "30  56825.jpg  http://assets.myntassets.com/v1/images/style/p...  56825   \n",
       "31  39988.jpg  http://assets.myntassets.com/v1/images/style/p...  39988   \n",
       "32  59051.jpg  http://assets.myntassets.com/v1/images/style/p...  59051   \n",
       "33  20099.jpg  http://assets.myntassets.com/v1/images/style/p...  20099   \n",
       "34  58183.jpg  http://assets.myntassets.com/v1/images/style/p...  58183   \n",
       "35  29742.jpg  http://assets.myntassets.com/v1/images/style/p...  29742   \n",
       "36  51658.jpg  http://assets.myntassets.com/v1/images/style/p...  51658   \n",
       "37   3954.jpg  http://assets.myntassets.com/v1/images/style/p...   3954   \n",
       "38  18839.jpg  http://assets.myntassets.com/v1/images/style/p...  18839   \n",
       "39   2886.jpg  http://assets.myntassets.com/v1/images/style/p...   2886   \n",
       "40  23278.jpg  http://assets.myntassets.com/v1/images/style/p...  23278   \n",
       "41  28690.jpg  http://assets.myntassets.com/v1/images/style/p...  28690   \n",
       "42   8580.jpg  http://assets.myntassets.com/v1/images/style/p...   8580   \n",
       "43   3168.jpg  http://assets.myntassets.com/v1/images/style/p...   3168   \n",
       "44  18005.jpg  http://assets.myntassets.com/v1/images/style/p...  18005   \n",
       "45  17871.jpg  http://assets.myntassets.com/v1/images/style/p...  17871   \n",
       "46  38402.jpg  http://assets.myntassets.com/v1/images/style/p...  38402   \n",
       "47  44984.jpg  http://assets.myntassets.com/v1/images/style/p...  44984   \n",
       "48  10268.jpg  http://assets.myntassets.com/v1/images/style/p...  10268   \n",
       "49  45856.jpg  http://assets.myntassets.com/v1/images/style/p...  45856   \n",
       "\n",
       "   masterCategory  gender       subCategory  \\\n",
       "0         Apparel     Men           Topwear   \n",
       "1         Apparel     Men        Bottomwear   \n",
       "2     Accessories   Women           Watches   \n",
       "3         Apparel     Men        Bottomwear   \n",
       "4         Apparel     Men           Topwear   \n",
       "5         Apparel     Men           Topwear   \n",
       "6         Apparel     Men           Topwear   \n",
       "7         Apparel   Women           Topwear   \n",
       "8     Accessories     Men             Socks   \n",
       "9     Accessories     Men           Watches   \n",
       "10       Footwear     Men             Shoes   \n",
       "11    Accessories   Women             Belts   \n",
       "12       Footwear     Men        Flip Flops   \n",
       "13    Accessories   Women              Bags   \n",
       "14       Footwear    Boys        Flip Flops   \n",
       "15        Apparel     Men           Topwear   \n",
       "16    Accessories     Men           Watches   \n",
       "17        Apparel   Girls           Topwear   \n",
       "18        Apparel   Women         Innerwear   \n",
       "19    Accessories   Women              Bags   \n",
       "20    Accessories     Men           Watches   \n",
       "21       Footwear     Men            Sandal   \n",
       "22    Accessories  Unisex  Shoe Accessories   \n",
       "23        Apparel     Men           Topwear   \n",
       "24  Personal Care     Men         Fragrance   \n",
       "25       Footwear     Men             Shoes   \n",
       "26    Accessories   Women         Jewellery   \n",
       "27        Apparel     Men           Topwear   \n",
       "28    Accessories   Women              Bags   \n",
       "29        Apparel     Men           Topwear   \n",
       "30        Apparel     Men           Topwear   \n",
       "31       Footwear     Men             Shoes   \n",
       "32       Footwear   Women             Shoes   \n",
       "33        Apparel   Women           Topwear   \n",
       "34    Accessories   Women              Bags   \n",
       "35    Accessories   Women              Bags   \n",
       "36    Accessories   Women           Watches   \n",
       "37        Apparel   Women           Topwear   \n",
       "38    Accessories     Men             Belts   \n",
       "39       Footwear   Women             Shoes   \n",
       "40    Accessories     Men           Watches   \n",
       "41        Apparel   Women           Topwear   \n",
       "42        Apparel     Men           Topwear   \n",
       "43       Footwear     Men             Shoes   \n",
       "44        Apparel     Men        Bottomwear   \n",
       "45        Apparel     Men         Innerwear   \n",
       "46    Accessories   Women             Belts   \n",
       "47    Accessories   Women           Watches   \n",
       "48       Footwear     Men             Shoes   \n",
       "49        Apparel   Women           Topwear   \n",
       "\n",
       "                                                image  \n",
       "0   <PIL.JpegImagePlugin.JpegImageFile image mode=...  \n",
       "1   <PIL.JpegImagePlugin.JpegImageFile image mode=...  \n",
       "2   <PIL.JpegImagePlugin.JpegImageFile image mode=...  \n",
       "3   <PIL.JpegImagePlugin.JpegImageFile image mode=...  \n",
       "4   <PIL.JpegImagePlugin.JpegImageFile image mode=...  \n",
       "5   <PIL.JpegImagePlugin.JpegImageFile image mode=...  \n",
       "6   <PIL.JpegImagePlugin.JpegImageFile image mode=...  \n",
       "7   <PIL.JpegImagePlugin.JpegImageFile image mode=...  \n",
       "8   <PIL.JpegImagePlugin.JpegImageFile image mode=...  \n",
       "9   <PIL.JpegImagePlugin.JpegImageFile image mode=...  \n",
       "10  <PIL.JpegImagePlugin.JpegImageFile image mode=...  \n",
       "11  <PIL.JpegImagePlugin.JpegImageFile image mode=...  \n",
       "12  <PIL.JpegImagePlugin.JpegImageFile image mode=...  \n",
       "13  <PIL.JpegImagePlugin.JpegImageFile image mode=...  \n",
       "14  <PIL.JpegImagePlugin.JpegImageFile image mode=...  \n",
       "15  <PIL.JpegImagePlugin.JpegImageFile image mode=...  \n",
       "16  <PIL.JpegImagePlugin.JpegImageFile image mode=...  \n",
       "17  <PIL.JpegImagePlugin.JpegImageFile image mode=...  \n",
       "18  <PIL.JpegImagePlugin.JpegImageFile image mode=...  \n",
       "19  <PIL.JpegImagePlugin.JpegImageFile image mode=...  \n",
       "20  <PIL.JpegImagePlugin.JpegImageFile image mode=...  \n",
       "21  <PIL.JpegImagePlugin.JpegImageFile image mode=...  \n",
       "22  <PIL.JpegImagePlugin.JpegImageFile image mode=...  \n",
       "23  <PIL.JpegImagePlugin.JpegImageFile image mode=...  \n",
       "24  <PIL.JpegImagePlugin.JpegImageFile image mode=...  \n",
       "25  <PIL.JpegImagePlugin.JpegImageFile image mode=...  \n",
       "26  <PIL.JpegImagePlugin.JpegImageFile image mode=...  \n",
       "27  <PIL.JpegImagePlugin.JpegImageFile image mode=...  \n",
       "28  <PIL.JpegImagePlugin.JpegImageFile image mode=...  \n",
       "29  <PIL.JpegImagePlugin.JpegImageFile image mode=...  \n",
       "30  <PIL.JpegImagePlugin.JpegImageFile image mode=...  \n",
       "31  <PIL.JpegImagePlugin.JpegImageFile image mode=...  \n",
       "32  <PIL.JpegImagePlugin.JpegImageFile image mode=...  \n",
       "33  <PIL.JpegImagePlugin.JpegImageFile image mode=...  \n",
       "34  <PIL.JpegImagePlugin.JpegImageFile image mode=...  \n",
       "35  <PIL.JpegImagePlugin.JpegImageFile image mode=...  \n",
       "36  <PIL.JpegImagePlugin.JpegImageFile image mode=...  \n",
       "37  <PIL.JpegImagePlugin.JpegImageFile image mode=...  \n",
       "38  <PIL.JpegImagePlugin.JpegImageFile image mode=...  \n",
       "39  <PIL.JpegImagePlugin.JpegImageFile image mode=...  \n",
       "40  <PIL.JpegImagePlugin.JpegImageFile image mode=...  \n",
       "41  <PIL.JpegImagePlugin.JpegImageFile image mode=...  \n",
       "42  <PIL.JpegImagePlugin.JpegImageFile image mode=...  \n",
       "43  <PIL.JpegImagePlugin.JpegImageFile image mode=...  \n",
       "44  <PIL.JpegImagePlugin.JpegImageFile image mode=...  \n",
       "45  <PIL.JpegImagePlugin.JpegImageFile image mode=...  \n",
       "46  <PIL.JpegImagePlugin.JpegImageFile image mode=...  \n",
       "47  <PIL.JpegImagePlugin.JpegImageFile image mode=...  \n",
       "48  <PIL.JpegImagePlugin.JpegImageFile image mode=...  \n",
       "49  <PIL.JpegImagePlugin.JpegImageFile image mode=...  "
      ]
     },
     "execution_count": 4,
     "metadata": {},
     "output_type": "execute_result"
    }
   ],
   "source": [
    "df = pd.DataFrame(ds.get(\"train\")[:50])\n",
    "df"
   ]
  },
  {
   "cell_type": "code",
   "execution_count": 5,
   "metadata": {},
   "outputs": [
    {
     "data": {
      "text/plain": [
       "42700"
      ]
     },
     "execution_count": 5,
     "metadata": {},
     "output_type": "execute_result"
    }
   ],
   "source": [
    "len(ds.get(\"train\"))"
   ]
  },
  {
   "cell_type": "markdown",
   "metadata": {
    "id": "TeZTXJQxgzhC"
   },
   "source": [
    "We see that we have `filename`, `link`, `id`, `masterCategory`, `gender`, `subCategory` and `image`. Let's print the first example from this dataset to see what these features mean:"
   ]
  },
  {
   "cell_type": "code",
   "execution_count": 6,
   "metadata": {
    "colab": {
     "base_uri": "https://localhost:8080/"
    },
    "id": "TN3yeb9vhByW",
    "outputId": "d03a7810-5f88-412a-a48a-f836233abb43"
   },
   "outputs": [
    {
     "data": {
      "text/plain": [
       "{'filename': '4043.jpg',\n",
       " 'link': 'http://assets.myntassets.com/v1/images/style/properties/eec79fbb44971084ca5e235722acf5f0_images.jpg',\n",
       " 'id': '4043',\n",
       " 'masterCategory': 'Footwear',\n",
       " 'gender': 'Men',\n",
       " 'subCategory': 'Shoes',\n",
       " 'image': <PIL.JpegImagePlugin.JpegImageFile image mode=RGB size=384x512>}"
      ]
     },
     "execution_count": 6,
     "metadata": {},
     "output_type": "execute_result"
    }
   ],
   "source": [
    "idx = random.randint(0, len(ds.get(\"train\")))\n",
    "# idx = 15970\n",
    "entry = ds['train'][idx]\n",
    "entry"
   ]
  },
  {
   "cell_type": "markdown",
   "metadata": {
    "id": "ER1hoxdjhEEV"
   },
   "source": [
    "Thus, the features of the dataset are as follows:\n",
    "\n",
    "* `filename`: this is the filename of the image, indicating that the image is stored or identified with this name.\n",
    "* `link`: this is a URL link to the actual image file, which is hosted online. This link can be used to view or download the image.\n",
    "* `id`: this is a unique identifier for the image, which can be used to reference this specific item within the dataset.\n",
    "* `masterCategory`: this indicates the broad category under which this product falls.\n",
    "* `gender`: this specifies the intended gender for the product, in this case, men's clothing.\n",
    "* `subCategory`: this is a more specific category within the master category. \"Topwear\" indicates that the product is an item of clothing worn on the upper body, such as a shirt, t-shirt, or jacket.\n",
    "* `image`: this is a PIL (Python Imaging Library) image object, which allows for image manipulation and processing. It specifies the image mode (RGB, meaning it has red, green, and blue color channels) and the image size (384 pixels wide by 512 pixels tall)."
   ]
  },
  {
   "cell_type": "markdown",
   "metadata": {
    "id": "LdeYnSOMhpjq"
   },
   "source": [
    "Cool, let’s look at the image!"
   ]
  },
  {
   "cell_type": "code",
   "execution_count": 7,
   "metadata": {
    "colab": {
     "base_uri": "https://localhost:8080/",
     "height": 529
    },
    "id": "9B2iYjHqhrT5",
    "outputId": "1d8b34af-79a8-42ad-86fc-eb4294737d33"
   },
   "outputs": [
    {
     "data": {
      "image/jpeg": "[encoded data removed]",
      "image/png": "[encoded data removed]",
      "text/plain": [
       "<PIL.JpegImagePlugin.JpegImageFile image mode=RGB size=384x512>"
      ]
     },
     "execution_count": 7,
     "metadata": {},
     "output_type": "execute_result"
    }
   ],
   "source": [
    "image = entry['image']\n",
    "image"
   ]
  },
  {
   "cell_type": "markdown",
   "metadata": {
    "id": "7YfeVBA1h0hO"
   },
   "source": [
    "As expected, it's an item of men's topwear."
   ]
  },
  {
   "cell_type": "markdown",
   "metadata": {
    "id": "8LoU1gYBkWpJ"
   },
   "source": [
    "We can see that the data itself is comprised of a train dataset, so we will define our dataset as this."
   ]
  },
  {
   "cell_type": "code",
   "execution_count": 8,
   "metadata": {
    "id": "QTQLwrzxkkUn"
   },
   "outputs": [],
   "source": [
    "dataset = ds['train']"
   ]
  },
  {
   "cell_type": "markdown",
   "metadata": {
    "id": "BZ9Wm6ukknaC"
   },
   "source": [
    "Awesome, so now we've seen what our dataset looks like, it's time to load our CLIP model and perform preprocessing."
   ]
  },
  {
   "cell_type": "markdown",
   "metadata": {
    "id": "2x0NOZp4kuiu"
   },
   "source": [
    "### **3. Load CLIP Model and Preprocessing**"
   ]
  },
  {
   "cell_type": "markdown",
   "metadata": {
    "id": "yCPcnYrFk0rK"
   },
   "source": [
    "The CLIP model (`ViT-B/32`) and its preprocessing function are loaded. The model is moved to the appropriate device (GPU if available, otherwise CPU)."
   ]
  },
  {
   "cell_type": "code",
   "execution_count": 9,
   "metadata": {
    "collapsed": true,
    "id": "iODCPI4Ek8Hs"
   },
   "outputs": [
    {
     "ename": "RuntimeError",
     "evalue": "CUDA error: out of memory\nCUDA kernel errors might be asynchronously reported at some other API call, so the stacktrace below might be incorrect.\nFor debugging consider passing CUDA_LAUNCH_BLOCKING=1\nCompile with `TORCH_USE_CUDA_DSA` to enable device-side assertions.\n",
     "output_type": "error",
     "traceback": [
      "\u001b[0;31m---------------------------------------------------------------------------\u001b[0m",
      "\u001b[0;31mRuntimeError\u001b[0m                              Traceback (most recent call last)",
      "Cell \u001b[0;32mIn[9], line 2\u001b[0m\n\u001b[1;32m      1\u001b[0m \u001b[38;5;28;01mimport\u001b[39;00m \u001b[38;5;21;01mclip\u001b[39;00m\n\u001b[0;32m----> 2\u001b[0m model, preprocess \u001b[38;5;241m=\u001b[39m \u001b[43mclip\u001b[49m\u001b[38;5;241;43m.\u001b[39;49m\u001b[43mload\u001b[49m\u001b[43m(\u001b[49m\u001b[38;5;124;43m\"\u001b[39;49m\u001b[38;5;124;43mViT-B/32\u001b[39;49m\u001b[38;5;124;43m\"\u001b[39;49m\u001b[43m,\u001b[49m\u001b[43m \u001b[49m\u001b[43mjit\u001b[49m\u001b[38;5;241;43m=\u001b[39;49m\u001b[38;5;28;43;01mFalse\u001b[39;49;00m\u001b[43m)\u001b[49m \u001b[38;5;66;03m# jit=False for training\u001b[39;00m\n\u001b[1;32m      3\u001b[0m model\u001b[38;5;241m.\u001b[39mto(device)\n",
      "File \u001b[0;32m~/WS_Farid/ImACCESS/clip/clip.py:137\u001b[0m, in \u001b[0;36mload\u001b[0;34m(name, device, jit, download_root)\u001b[0m\n\u001b[1;32m    134\u001b[0m \t\tstate_dict \u001b[38;5;241m=\u001b[39m torch\u001b[38;5;241m.\u001b[39mload(opened_file, map_location\u001b[38;5;241m=\u001b[39m\u001b[38;5;124m\"\u001b[39m\u001b[38;5;124mcpu\u001b[39m\u001b[38;5;124m\"\u001b[39m)\n\u001b[1;32m    136\u001b[0m \u001b[38;5;28;01mif\u001b[39;00m \u001b[38;5;129;01mnot\u001b[39;00m jit:\n\u001b[0;32m--> 137\u001b[0m \tmodel \u001b[38;5;241m=\u001b[39m \u001b[43mbuild_model\u001b[49m\u001b[43m(\u001b[49m\u001b[43mstate_dict\u001b[49m\u001b[43m \u001b[49m\u001b[38;5;129;43;01mor\u001b[39;49;00m\u001b[43m \u001b[49m\u001b[43mmodel\u001b[49m\u001b[38;5;241;43m.\u001b[39;49m\u001b[43mstate_dict\u001b[49m\u001b[43m(\u001b[49m\u001b[43m)\u001b[49m\u001b[43m)\u001b[49m\u001b[38;5;241;43m.\u001b[39;49m\u001b[43mto\u001b[49m\u001b[43m(\u001b[49m\u001b[43mdevice\u001b[49m\u001b[43m)\u001b[49m\n\u001b[1;32m    138\u001b[0m \t\u001b[38;5;28;01mif\u001b[39;00m \u001b[38;5;28mstr\u001b[39m(device) \u001b[38;5;241m==\u001b[39m \u001b[38;5;124m\"\u001b[39m\u001b[38;5;124mcpu\u001b[39m\u001b[38;5;124m\"\u001b[39m:\n\u001b[1;32m    139\u001b[0m \t\tmodel\u001b[38;5;241m.\u001b[39mfloat()\n",
      "File \u001b[0;32m~/miniconda3/envs/py39/lib/python3.9/site-packages/torch/nn/modules/module.py:1174\u001b[0m, in \u001b[0;36mModule.to\u001b[0;34m(self, *args, **kwargs)\u001b[0m\n\u001b[1;32m   1171\u001b[0m         \u001b[38;5;28;01melse\u001b[39;00m:\n\u001b[1;32m   1172\u001b[0m             \u001b[38;5;28;01mraise\u001b[39;00m\n\u001b[0;32m-> 1174\u001b[0m \u001b[38;5;28;01mreturn\u001b[39;00m \u001b[38;5;28;43mself\u001b[39;49m\u001b[38;5;241;43m.\u001b[39;49m\u001b[43m_apply\u001b[49m\u001b[43m(\u001b[49m\u001b[43mconvert\u001b[49m\u001b[43m)\u001b[49m\n",
      "File \u001b[0;32m~/miniconda3/envs/py39/lib/python3.9/site-packages/torch/nn/modules/module.py:780\u001b[0m, in \u001b[0;36mModule._apply\u001b[0;34m(self, fn, recurse)\u001b[0m\n\u001b[1;32m    778\u001b[0m \u001b[38;5;28;01mif\u001b[39;00m recurse:\n\u001b[1;32m    779\u001b[0m     \u001b[38;5;28;01mfor\u001b[39;00m module \u001b[38;5;129;01min\u001b[39;00m \u001b[38;5;28mself\u001b[39m\u001b[38;5;241m.\u001b[39mchildren():\n\u001b[0;32m--> 780\u001b[0m         \u001b[43mmodule\u001b[49m\u001b[38;5;241;43m.\u001b[39;49m\u001b[43m_apply\u001b[49m\u001b[43m(\u001b[49m\u001b[43mfn\u001b[49m\u001b[43m)\u001b[49m\n\u001b[1;32m    782\u001b[0m \u001b[38;5;28;01mdef\u001b[39;00m \u001b[38;5;21mcompute_should_use_set_data\u001b[39m(tensor, tensor_applied):\n\u001b[1;32m    783\u001b[0m     \u001b[38;5;28;01mif\u001b[39;00m torch\u001b[38;5;241m.\u001b[39m_has_compatible_shallow_copy_type(tensor, tensor_applied):\n\u001b[1;32m    784\u001b[0m         \u001b[38;5;66;03m# If the new tensor has compatible tensor type as the existing tensor,\u001b[39;00m\n\u001b[1;32m    785\u001b[0m         \u001b[38;5;66;03m# the current behavior is to change the tensor in-place using `.data =`,\u001b[39;00m\n\u001b[0;32m   (...)\u001b[0m\n\u001b[1;32m    790\u001b[0m         \u001b[38;5;66;03m# global flag to let the user control whether they want the future\u001b[39;00m\n\u001b[1;32m    791\u001b[0m         \u001b[38;5;66;03m# behavior of overwriting the existing tensor or not.\u001b[39;00m\n",
      "File \u001b[0;32m~/miniconda3/envs/py39/lib/python3.9/site-packages/torch/nn/modules/module.py:780\u001b[0m, in \u001b[0;36mModule._apply\u001b[0;34m(self, fn, recurse)\u001b[0m\n\u001b[1;32m    778\u001b[0m \u001b[38;5;28;01mif\u001b[39;00m recurse:\n\u001b[1;32m    779\u001b[0m     \u001b[38;5;28;01mfor\u001b[39;00m module \u001b[38;5;129;01min\u001b[39;00m \u001b[38;5;28mself\u001b[39m\u001b[38;5;241m.\u001b[39mchildren():\n\u001b[0;32m--> 780\u001b[0m         \u001b[43mmodule\u001b[49m\u001b[38;5;241;43m.\u001b[39;49m\u001b[43m_apply\u001b[49m\u001b[43m(\u001b[49m\u001b[43mfn\u001b[49m\u001b[43m)\u001b[49m\n\u001b[1;32m    782\u001b[0m \u001b[38;5;28;01mdef\u001b[39;00m \u001b[38;5;21mcompute_should_use_set_data\u001b[39m(tensor, tensor_applied):\n\u001b[1;32m    783\u001b[0m     \u001b[38;5;28;01mif\u001b[39;00m torch\u001b[38;5;241m.\u001b[39m_has_compatible_shallow_copy_type(tensor, tensor_applied):\n\u001b[1;32m    784\u001b[0m         \u001b[38;5;66;03m# If the new tensor has compatible tensor type as the existing tensor,\u001b[39;00m\n\u001b[1;32m    785\u001b[0m         \u001b[38;5;66;03m# the current behavior is to change the tensor in-place using `.data =`,\u001b[39;00m\n\u001b[0;32m   (...)\u001b[0m\n\u001b[1;32m    790\u001b[0m         \u001b[38;5;66;03m# global flag to let the user control whether they want the future\u001b[39;00m\n\u001b[1;32m    791\u001b[0m         \u001b[38;5;66;03m# behavior of overwriting the existing tensor or not.\u001b[39;00m\n",
      "File \u001b[0;32m~/miniconda3/envs/py39/lib/python3.9/site-packages/torch/nn/modules/module.py:805\u001b[0m, in \u001b[0;36mModule._apply\u001b[0;34m(self, fn, recurse)\u001b[0m\n\u001b[1;32m    801\u001b[0m \u001b[38;5;66;03m# Tensors stored in modules are graph leaves, and we don't want to\u001b[39;00m\n\u001b[1;32m    802\u001b[0m \u001b[38;5;66;03m# track autograd history of `param_applied`, so we have to use\u001b[39;00m\n\u001b[1;32m    803\u001b[0m \u001b[38;5;66;03m# `with torch.no_grad():`\u001b[39;00m\n\u001b[1;32m    804\u001b[0m \u001b[38;5;28;01mwith\u001b[39;00m torch\u001b[38;5;241m.\u001b[39mno_grad():\n\u001b[0;32m--> 805\u001b[0m     param_applied \u001b[38;5;241m=\u001b[39m \u001b[43mfn\u001b[49m\u001b[43m(\u001b[49m\u001b[43mparam\u001b[49m\u001b[43m)\u001b[49m\n\u001b[1;32m    806\u001b[0m p_should_use_set_data \u001b[38;5;241m=\u001b[39m compute_should_use_set_data(param, param_applied)\n\u001b[1;32m    808\u001b[0m \u001b[38;5;66;03m# subclasses may have multiple child tensors so we need to use swap_tensors\u001b[39;00m\n",
      "File \u001b[0;32m~/miniconda3/envs/py39/lib/python3.9/site-packages/torch/nn/modules/module.py:1160\u001b[0m, in \u001b[0;36mModule.to.<locals>.convert\u001b[0;34m(t)\u001b[0m\n\u001b[1;32m   1153\u001b[0m     \u001b[38;5;28;01mif\u001b[39;00m convert_to_format \u001b[38;5;129;01mis\u001b[39;00m \u001b[38;5;129;01mnot\u001b[39;00m \u001b[38;5;28;01mNone\u001b[39;00m \u001b[38;5;129;01mand\u001b[39;00m t\u001b[38;5;241m.\u001b[39mdim() \u001b[38;5;129;01min\u001b[39;00m (\u001b[38;5;241m4\u001b[39m, \u001b[38;5;241m5\u001b[39m):\n\u001b[1;32m   1154\u001b[0m         \u001b[38;5;28;01mreturn\u001b[39;00m t\u001b[38;5;241m.\u001b[39mto(\n\u001b[1;32m   1155\u001b[0m             device,\n\u001b[1;32m   1156\u001b[0m             dtype \u001b[38;5;28;01mif\u001b[39;00m t\u001b[38;5;241m.\u001b[39mis_floating_point() \u001b[38;5;129;01mor\u001b[39;00m t\u001b[38;5;241m.\u001b[39mis_complex() \u001b[38;5;28;01melse\u001b[39;00m \u001b[38;5;28;01mNone\u001b[39;00m,\n\u001b[1;32m   1157\u001b[0m             non_blocking,\n\u001b[1;32m   1158\u001b[0m             memory_format\u001b[38;5;241m=\u001b[39mconvert_to_format,\n\u001b[1;32m   1159\u001b[0m         )\n\u001b[0;32m-> 1160\u001b[0m     \u001b[38;5;28;01mreturn\u001b[39;00m \u001b[43mt\u001b[49m\u001b[38;5;241;43m.\u001b[39;49m\u001b[43mto\u001b[49m\u001b[43m(\u001b[49m\n\u001b[1;32m   1161\u001b[0m \u001b[43m        \u001b[49m\u001b[43mdevice\u001b[49m\u001b[43m,\u001b[49m\n\u001b[1;32m   1162\u001b[0m \u001b[43m        \u001b[49m\u001b[43mdtype\u001b[49m\u001b[43m \u001b[49m\u001b[38;5;28;43;01mif\u001b[39;49;00m\u001b[43m \u001b[49m\u001b[43mt\u001b[49m\u001b[38;5;241;43m.\u001b[39;49m\u001b[43mis_floating_point\u001b[49m\u001b[43m(\u001b[49m\u001b[43m)\u001b[49m\u001b[43m \u001b[49m\u001b[38;5;129;43;01mor\u001b[39;49;00m\u001b[43m \u001b[49m\u001b[43mt\u001b[49m\u001b[38;5;241;43m.\u001b[39;49m\u001b[43mis_complex\u001b[49m\u001b[43m(\u001b[49m\u001b[43m)\u001b[49m\u001b[43m \u001b[49m\u001b[38;5;28;43;01melse\u001b[39;49;00m\u001b[43m \u001b[49m\u001b[38;5;28;43;01mNone\u001b[39;49;00m\u001b[43m,\u001b[49m\n\u001b[1;32m   1163\u001b[0m \u001b[43m        \u001b[49m\u001b[43mnon_blocking\u001b[49m\u001b[43m,\u001b[49m\n\u001b[1;32m   1164\u001b[0m \u001b[43m    \u001b[49m\u001b[43m)\u001b[49m\n\u001b[1;32m   1165\u001b[0m \u001b[38;5;28;01mexcept\u001b[39;00m \u001b[38;5;167;01mNotImplementedError\u001b[39;00m \u001b[38;5;28;01mas\u001b[39;00m e:\n\u001b[1;32m   1166\u001b[0m     \u001b[38;5;28;01mif\u001b[39;00m \u001b[38;5;28mstr\u001b[39m(e) \u001b[38;5;241m==\u001b[39m \u001b[38;5;124m\"\u001b[39m\u001b[38;5;124mCannot copy out of meta tensor; no data!\u001b[39m\u001b[38;5;124m\"\u001b[39m:\n",
      "\u001b[0;31mRuntimeError\u001b[0m: CUDA error: out of memory\nCUDA kernel errors might be asynchronously reported at some other API call, so the stacktrace below might be incorrect.\nFor debugging consider passing CUDA_LAUNCH_BLOCKING=1\nCompile with `TORCH_USE_CUDA_DSA` to enable device-side assertions.\n"
     ]
    }
   ],
   "source": [
    "import clip\n",
    "model, preprocess = clip.load(\"ViT-B/32\", jit=False) # jit=False for training\n",
    "model.to(device)"
   ]
  },
  {
   "cell_type": "code",
   "execution_count": null,
   "metadata": {},
   "outputs": [],
   "source": [
    "for name, param in model.visual.named_parameters():\n",
    "  print(name)"
   ]
  },
  {
   "cell_type": "code",
   "execution_count": null,
   "metadata": {},
   "outputs": [],
   "source": [
    "for name, param in model.text.named_parameters():\n",
    "  print(name)"
   ]
  },
  {
   "cell_type": "code",
   "execution_count": null,
   "metadata": {},
   "outputs": [],
   "source": [
    "xxxx"
   ]
  },
  {
   "cell_type": "code",
   "execution_count": null,
   "metadata": {},
   "outputs": [],
   "source": [
    "input_resolution = model.visual.input_resolution\n",
    "context_length = model.context_length\n",
    "vocab_size = model.vocab_size\n",
    "\n",
    "print(\"Model parameters:\", f\"{np.sum([int(np.prod(p.shape)) for p in model.parameters()]):,}\")\n",
    "print(\"Input resolution:\", input_resolution)\n",
    "print(\"Context length:\", context_length)\n",
    "print(\"Vocab size:\", vocab_size)"
   ]
  },
  {
   "cell_type": "markdown",
   "metadata": {
    "id": "bHdsdp-VlReW"
   },
   "source": [
    "Let's take a look at how well our base CLIP model performs image classification on this dataset."
   ]
  },
  {
   "cell_type": "markdown",
   "metadata": {
    "id": "6iLtmlQOmEID"
   },
   "source": [
    "This code uses the CLIP model to classify three example images from our dataset by comparing their visual features with textual descriptions of LABELs. It processes and normalizes the features of the images and subcategory texts, calculates their similarity, and predicts the subcategory for each image. Finally, it visualizes the images alongside their predicted and actual LABELs in a plot."
   ]
  },
  {
   "cell_type": "code",
   "execution_count": null,
   "metadata": {},
   "outputs": [],
   "source": [
    "# Convert the 'subCategory' column to a pandas Series\n",
    "subcategory_series = pd.Series(example['subCategory'] for example in dataset)\n",
    "\n",
    "# Get the value counts of each subcategory\n",
    "label_counts = subcategory_series.value_counts()\n",
    "\n",
    "# Print the result\n",
    "print(label_counts)\n",
    "\n",
    "plt.figure(figsize=(15, 8))\n",
    "label_counts.plot(kind='bar', fontsize=9)\n",
    "plt.title(f'Label Frequency (total: {label_counts.shape}) total samples: {subcategory_series.shape[0]}')\n",
    "plt.xlabel('Label')\n",
    "plt.ylabel('Frequency')\n",
    "plt.tight_layout()\n",
    "plt.show()"
   ]
  },
  {
   "cell_type": "code",
   "execution_count": null,
   "metadata": {},
   "outputs": [],
   "source": [
    "# Get the list of possible LABELs from the dataset\n",
    "LABELs = list(set(example['subCategory'] for example in dataset))\n",
    "num_classes = len(LABELs)\n",
    "\n",
    "# print(num_classes)\n",
    "# LABELs"
   ]
  },
  {
   "cell_type": "code",
   "execution_count": null,
   "metadata": {},
   "outputs": [],
   "source": [
    "# Preprocess the text descriptions for each subcategory\n",
    "# text_inputs = torch.cat([clip.tokenize(f\"a photo of {c}\") for c in LABELs]).to(device)\n",
    "text_inputs = torch.cat([clip.tokenize(texts=c) for c in LABELs]).to(device)\n",
    "print(type(text_inputs), text_inputs.shape)"
   ]
  },
  {
   "cell_type": "code",
   "execution_count": null,
   "metadata": {
    "colab": {
     "base_uri": "https://localhost:8080/",
     "height": 305
    },
    "id": "sitbYYMIlY_n",
    "outputId": "b2ea4336-e2f6-4ee9-8b15-bcba9cdd5649"
   },
   "outputs": [],
   "source": [
    "\n",
    "# Select indices for three example images\n",
    "# indices = [1, 33, 50, 508, 1000]\n",
    "indices = list(np.random.randint(low=0, high=len(ds.get(\"train\")), size=10, dtype=int))\n",
    "\n",
    "# Create a figure with subplots\n",
    "fig, axes = plt.subplots(1, len(indices), figsize=(15, 5))\n",
    "\n",
    "# Loop through the indices and process each image\n",
    "for i, idx in enumerate(indices):\n",
    "\tidx = int(idx)\n",
    "\t# Select an example image from the dataset\n",
    "\texample = dataset[idx]\n",
    "\timage = example['image']\n",
    "\tsubcategory = example['subCategory']\n",
    "\n",
    "\t# Preprocess the image\n",
    "\timage_input = preprocess(image).unsqueeze(0).to(device)\n",
    "\n",
    "\t# Calculate image and text features\n",
    "\twith torch.no_grad():\n",
    "\t\timage_features = model.encode_image(image_input)\n",
    "\t\ttext_features = model.encode_text(text_inputs)\n",
    "\n",
    "\t# Normalize the features\n",
    "\timage_features /= image_features.norm(dim=-1, keepdim=True)\n",
    "\ttext_features /= text_features.norm(dim=-1, keepdim=True)\n",
    "\n",
    "\t# Calculate similarity between image and text features\n",
    "\tsimilarity = (100.0 * image_features @ text_features.T).softmax(dim=-1)\n",
    "\tprobs_vals, probs_idxs = similarity[0].topk(1)\n",
    "\n",
    "\t# Display the image in the subplot\n",
    "\taxes[i].imshow(image)\n",
    "\taxes[i].set_title(f\"Predicted: {LABELs[probs_idxs[0]]}\\nGT: {subcategory}\", fontsize=7)\n",
    "\taxes[i].axis('off')\n",
    "\n",
    "# Show the plot\n",
    "plt.tight_layout()\n",
    "plt.show()"
   ]
  },
  {
   "cell_type": "markdown",
   "metadata": {
    "id": "oAlJVY_VmTlY"
   },
   "source": [
    "As we can see for the three images, our base CLIP model does not perform very well. It only identifies one of the three images correctly.\n",
    "\n",
    "Let's set up the process for fine-tuning our CLIP model to improve these predictions."
   ]
  },
  {
   "cell_type": "markdown",
   "metadata": {
    "id": "Ppi67_LDm528"
   },
   "source": [
    "### **4. Processing the Dataset**"
   ]
  },
  {
   "cell_type": "markdown",
   "metadata": {
    "id": "_UaVhKaYm9X9"
   },
   "source": [
    "First, we must split our dataset into training and validation sets. This step is crucial because it allows us to evaluate the performance of our machine learning model on unseen data, ensuring that the model generalizes well to new, real-world data rather than just the data it was trained on."
   ]
  },
  {
   "cell_type": "markdown",
   "metadata": {
    "id": "tld_9aV8nHxW"
   },
   "source": [
    "We take 80% of the original dataset to train our model and the remaining 20% as the validation data."
   ]
  },
  {
   "cell_type": "code",
   "execution_count": null,
   "metadata": {
    "id": "LFRfMiwtnICB"
   },
   "outputs": [],
   "source": [
    "# Split dataset into training and validation sets\n",
    "train_size = int(0.8 * len(dataset))\n",
    "val_size = len(dataset) - train_size"
   ]
  },
  {
   "cell_type": "markdown",
   "metadata": {
    "id": "29I0andgnRaT"
   },
   "source": [
    "Next, we create a custom dataset class:"
   ]
  },
  {
   "cell_type": "code",
   "execution_count": null,
   "metadata": {
    "id": "6VDYJ0fqnv3o"
   },
   "outputs": [],
   "source": [
    "# Define a custom dataset class\n",
    "class FashionDataset(Dataset):\n",
    "\tdef __init__(self, data):\n",
    "\t\tself.data = data\n",
    "\t\tself.transform = transforms.Compose(\n",
    "\t\t\t[\n",
    "\t\t\t\ttransforms.Resize((224, 224)),\n",
    "\t\t\t\ttransforms.ToTensor(),\n",
    "\t\t\t\ttransforms.Normalize(\n",
    "\t\t\t\t\t(0.48145466, 0.4578275, 0.40821073), \n",
    "\t\t\t\t\t(0.26862954, 0.26130258, 0.27577711)\n",
    "\t\t\t\t)\n",
    "\t\t\t]\n",
    "\t\t)\n",
    "\n",
    "\tdef __len__(self):\n",
    "\t\treturn len(self.data)\n",
    "\n",
    "\tdef __getitem__(self, idx):\n",
    "\t\titem = self.data[idx]\n",
    "\t\tdoc_image = item['image']\n",
    "\t\tdoc_label = item['subCategory']\n",
    "\t\tdoc_image_tensor = self.transform(doc_image)\n",
    "\t\tdoc_label_idx = LABELs.index(doc_label)\n",
    "\t\treturn doc_image_tensor, doc_label_idx # <class 'torch.Tensor'> torch.Size([3, 224, 224]) <class 'int'> 31"
   ]
  },
  {
   "cell_type": "markdown",
   "metadata": {
    "id": "xUjvLXTqn4gs"
   },
   "source": [
    "Let's break this down:\n",
    "\n",
    "* **`__init__` method**: Initializes the dataset object with data and sets up a series of transformations to preprocess the images. The transformations include resizing the images to 224x224 pixels, converting them to tensors, and normalizing them with specific mean and standard deviation values.\n",
    "* **`__len__` method**: Returns the number of samples in the dataset.\n",
    "* **`__getitem__` method**: Retrieves an image and its corresponding subcategory from the dataset. The image is transformed using the predefined transformations, and the subcategory is converted to a label by finding its index in the LABELs list."
   ]
  },
  {
   "cell_type": "code",
   "execution_count": null,
   "metadata": {},
   "outputs": [],
   "source": [
    "train_dataset, val_dataset = random_split(\n",
    "  dataset=dataset, \n",
    "  lengths=[train_size, val_size],\n",
    "  generator=torch.Generator().manual_seed(42),\n",
    ")\n",
    "print(len(dataset), train_size, val_size)"
   ]
  },
  {
   "cell_type": "markdown",
   "metadata": {
    "id": "Ls4_AVfFoABL"
   },
   "source": [
    "Next, we create DataLoaders:"
   ]
  },
  {
   "cell_type": "code",
   "execution_count": null,
   "metadata": {
    "id": "iWPYTK_DoOtA"
   },
   "outputs": [],
   "source": [
    "batch_size = 128\n",
    "# Create DataLoader for training and validation sets\n",
    "train_loader = DataLoader(\n",
    "\tdataset=FashionDataset(train_dataset), \n",
    "\tbatch_size=batch_size, \n",
    "\tshuffle=True,\n",
    ")\n",
    "val_loader = DataLoader(\n",
    "\tdataset=FashionDataset(val_dataset), \n",
    "\tbatch_size=batch_size,\n",
    "\tshuffle=False,\n",
    ")\n",
    "print(len(train_loader), len(val_loader))"
   ]
  },
  {
   "cell_type": "markdown",
   "metadata": {
    "id": "XBMVYEphoPUb"
   },
   "source": [
    "Here,\n",
    "* `train_loader`: A DataLoader for the training set, with a batch size of 32 and shuffling enabled to randomize the order of samples.\n",
    "* `val_loader`: A DataLoader for the validation set, with a batch size of 32 and shuffling disabled to maintain the order of samples."
   ]
  },
  {
   "cell_type": "code",
   "execution_count": null,
   "metadata": {},
   "outputs": [],
   "source": [
    "def visualize_samples(dataloader, num_samples=5):\n",
    "\tfor batch_idx, (batch_imgs, batch_lbls) in enumerate(dataloader):\n",
    "\t\tprint(batch_idx, batch_imgs.shape, batch_lbls.shape, len(batch_imgs), len(batch_lbls)) # torch.Size([32, 3, 224, 224]) torch.Size([32])\n",
    "\t\tif batch_idx >= num_samples:\n",
    "\t\t\tbreak\n",
    "\t\t\n",
    "\t\timage = batch_imgs[batch_idx].permute(1, 2, 0).numpy() # Convert tensor to numpy array and permute dimensions\n",
    "\t\tcaption_idx = batch_lbls[batch_idx]\n",
    "\t\tprint(image.shape, caption_idx)\n",
    "\t\t\t\n",
    "\t\t# # Denormalize the image\n",
    "\t\timage = image * np.array([0.2268645167350769]) + np.array([0.6929051876068115])\n",
    "\t\timage = np.clip(image, 0, 1)  # Ensure pixel values are in [0, 1] range\n",
    "\t\t\n",
    "\t\tplt.figure(figsize=(5, 5))\n",
    "\t\tplt.imshow(image)\n",
    "\t\tplt.title(f\"Caption: {caption_idx} {LABELs[caption_idx]}\")\n",
    "\t\tplt.axis('off')\n",
    "\t\tplt.show()"
   ]
  },
  {
   "cell_type": "code",
   "execution_count": null,
   "metadata": {},
   "outputs": [],
   "source": [
    "# visualize_samples(dataloader=train_loader)\n",
    "visualize_samples(dataloader=val_loader)"
   ]
  },
  {
   "cell_type": "code",
   "execution_count": null,
   "metadata": {},
   "outputs": [],
   "source": [
    "t, v = random_split(range(10), [3, 7], generator=torch.Generator().manual_seed(42))\n",
    "print(len(t), len(v), list(t), list(v))"
   ]
  },
  {
   "cell_type": "markdown",
   "metadata": {
    "id": "8VebTOchodRc"
   },
   "source": [
    "Next, we modify the model for fine-tuning:"
   ]
  },
  {
   "cell_type": "code",
   "execution_count": null,
   "metadata": {
    "id": "6S2CpWE-og37"
   },
   "outputs": [],
   "source": [
    "# Modify the model to include a classifier for LABELs\n",
    "class CLIPFineTuner(nn.Module):\n",
    "\tdef __init__(self, model, num_classes):\n",
    "\t\tsuper(CLIPFineTuner, self).__init__()\n",
    "\t\tself.model = model\n",
    "\t\tself.classifier = nn.Linear(\n",
    "\t\t\tin_features=model.visual.output_dim, \n",
    "\t\t\tout_features=num_classes,\n",
    "\t\t)\n",
    "\n",
    "\tdef forward(self, x):\n",
    "\t\twith torch.no_grad():\n",
    "\t\t\tfeatures = self.model.encode_image(x).float() # Convert to float32\n",
    "\t\treturn self.classifier(features) # predict label"
   ]
  },
  {
   "cell_type": "markdown",
   "metadata": {
    "id": "91JXeb-ConD4"
   },
   "source": [
    "Here,\n",
    "* **`__init__` method**: Initializes the fine-tuning model with a base CLIP model and a new linear classifier for the LABELs. The linear layer has `num_classes` output units, corresponding to the number of LABELs.\n",
    "* **`forward` method**: Passes the input images through the base CLIP model to extract features (without updating the base model's weights) and then through the new classifier to predict the subcategory."
   ]
  },
  {
   "cell_type": "markdown",
   "metadata": {
    "id": "0gZ-9eq8ozfe"
   },
   "source": [
    "Finally, we instantiate the fine-tuning model:"
   ]
  },
  {
   "cell_type": "code",
   "execution_count": null,
   "metadata": {
    "id": "Pf9XEIuzo3i5"
   },
   "outputs": [],
   "source": [
    "model_ft = CLIPFineTuner(model, num_classes).to(device)"
   ]
  },
  {
   "cell_type": "markdown",
   "metadata": {
    "id": "jJ-V4KiXo5sS"
   },
   "source": [
    "Here,\n",
    "* `num_classes`: The number of unique LABELs in the dataset.\n",
    "* `model_ft`: An instance of the `CLIPFineTuner` class, set up for fine-tuning on the subcategory classification task, and moved to the specified device (CPU or GPU)."
   ]
  },
  {
   "cell_type": "markdown",
   "metadata": {
    "id": "97CtfjXMpEVW"
   },
   "source": [
    "Amazing! We've set up everything we need to perform fine-tuning! Let's now define our loss function and optimizer."
   ]
  },
  {
   "cell_type": "markdown",
   "metadata": {
    "id": "QoJIIWOApL4r"
   },
   "source": [
    "### **5. Define Loss Function and Optimizer**"
   ]
  },
  {
   "cell_type": "markdown",
   "metadata": {
    "id": "JKkwwJhRpRL9"
   },
   "source": [
    "We define as follows:"
   ]
  },
  {
   "cell_type": "code",
   "execution_count": null,
   "metadata": {
    "id": "FfFqNxrapT6r"
   },
   "outputs": [],
   "source": [
    "# Define the loss function and optimizer\n",
    "criterion = nn.CrossEntropyLoss()\n",
    "optimizer = optim.Adam(\n",
    "\tparams=model_ft.classifier.parameters(), \n",
    "\tlr=1e-4,\n",
    ")"
   ]
  },
  {
   "cell_type": "markdown",
   "metadata": {
    "id": "aug_k9cSpeKp"
   },
   "source": [
    "Here,\n",
    "* `criterion`: The loss function used is Cross-Entropy Loss, which is suitable for multi-class classification tasks.\n",
    "* `optimizer`: The optimizer used is Adam, applied only to the parameters of the classifier layer (model_ft.classifier.parameters()) with a learning rate of 0.0001."
   ]
  },
  {
   "cell_type": "markdown",
   "metadata": {
    "id": "g_zgjK9tpsMb"
   },
   "source": [
    "Great, now we set up the fine-tuning!"
   ]
  },
  {
   "cell_type": "markdown",
   "metadata": {
    "id": "0Fr4lM-cpvKU"
   },
   "source": [
    "### **6. Fine-Tuning CLIP Model**"
   ]
  },
  {
   "cell_type": "markdown",
   "metadata": {
    "id": "mHcUVxeCp7b2"
   },
   "source": [
    "We are now in a position to perform our fine-tuning."
   ]
  },
  {
   "cell_type": "markdown",
   "metadata": {
    "id": "rhF4fmjnsElP"
   },
   "source": [
    "Let's break down the code in the training loop:\n",
    "\n",
    "**Training:**\n",
    "\n",
    "* `num_epochs`: Specifies the number of epochs (iterations over the entire training dataset).\n",
    "* Training mode: The model is set to training mode using `model_ft.train()`.\n",
    "* Progress bar: A progress bar (`tqdm`) is used to track the progress of the training loop, displaying the current epoch and running loss.\n",
    "* Training steps:\n",
    "\t- For each batch of images and labels from `train_loader`:\n",
    "\t\t- Move the images and labels to the specified device (CPU or GPU).\n",
    "\t\t- Zero the gradients using `optimizer.zero_grad()`.\n",
    "\t\t- Forward pass: Compute the model's outputs.\n",
    "\t\t- Compute the loss using criterion.\n",
    "\t\t- Backward pass: Compute gradients using `loss.backward()`.\n",
    "\t\t- Update the model parameters using `optimizer.step()`.\n",
    "\t\t- Update the running loss.\n",
    "\t\t- Update the progress bar description with the average loss for the epoch.\n",
    "- After each epoch, the average loss for the epoch is printed.\n",
    "\n",
    "**Validation:**\n",
    "- Evaluation mode: The model is set to evaluation mode using `model_ft.eval()`.\n",
    "- Accuracy calculation:\n",
    "\t- Disable gradient computation with `torch.no_grad()`.\n",
    "\t- For each batch of images and labels from val_loader:\n",
    "\t\t- Move the images and labels to the specified device.\n",
    "\t\t- Forward pass: Compute the model's outputs.\n",
    "\t\t- Get the predicted labels by finding the class with the highest score using `torch.max`.\n",
    "\t\t- Update the total number of labels and the count of correct predictions.\n",
    "\t- Calculate and print the validation accuracy as a percentage.\n",
    "\n",
    "**Save the Fine-Tuned Model:**\n",
    "The state dictionary of the fine-tuned model is saved to a file named `'clip_finetuned.pth'`."
   ]
  },
  {
   "cell_type": "code",
   "execution_count": null,
   "metadata": {
    "colab": {
     "base_uri": "https://localhost:8080/"
    },
    "id": "fligvBkFp-6h",
    "outputId": "b971f0fa-470b-4d0c-99c6-f57b51087703"
   },
   "outputs": [],
   "source": [
    "# Number of epochs for training\n",
    "num_epochs = 1\n",
    "\n",
    "# Training loop\n",
    "for epoch in range(num_epochs):\n",
    "\t\tmodel_ft.train()  # Set the model to training mode\n",
    "\t\trunning_loss = 0.0  # Initialize running loss for the current epoch\n",
    "\t\tpbar = tqdm(train_loader, desc=f\"Epoch {epoch+1}/{num_epochs}, Loss: 0.0000\")  # Initialize progress bar\n",
    "\n",
    "\t\tfor images, labels in pbar:\n",
    "\t\t\t\timages, labels = images.to(device), labels.to(device)  # Move images and labels to the device (GPU or CPU)\n",
    "\t\t\t\toptimizer.zero_grad()  # Clear the gradients of all optimized variables\n",
    "\t\t\t\toutputs = model_ft(images)  # Forward pass: compute predicted outputs by passing inputs to the model\n",
    "\t\t\t\tloss = criterion(outputs, labels)  # Calculate the loss\n",
    "\t\t\t\tloss.backward()  # Backward pass: compute gradient of the loss with respect to model parameters\n",
    "\t\t\t\toptimizer.step()  # Perform a single optimization step (parameter update)\n",
    "\n",
    "\t\t\t\trunning_loss += loss.item()  # Update running loss\n",
    "\t\t\t\tpbar.set_description(f\"Epoch {epoch+1}/{num_epochs}, Loss: {running_loss/len(train_loader):.4f}\")  # Update progress bar with current loss\n",
    "\n",
    "\t\tprint(f'Epoch [{epoch+1}/{num_epochs}], Loss: {running_loss/len(train_loader):.4f}')  # Print average loss for the epoch\n",
    "\n",
    "\t\t# Validation\n",
    "\t\tmodel_ft.eval()  # Set the model to evaluation mode\n",
    "\t\tcorrect = 0  # Initialize correct predictions counter\n",
    "\t\ttotal = 0  # Initialize total samples counter\n",
    "\n",
    "\t\twith torch.no_grad():  # Disable gradient calculation for validation\n",
    "\t\t\tfor images, labels in val_loader:\n",
    "\t\t\t\timages, labels = images.to(device), labels.to(device)  # Move images and labels to the device\n",
    "\t\t\t\toutputs = model_ft(images)  # Forward pass: compute predicted outputs by passing inputs to the model\n",
    "\t\t\t\t_, predicted = torch.max(input=outputs.data, dim=1)  # Get the class label with the highest probability\n",
    "\t\t\t\ttotal += labels.size(0)  # Update total samples\n",
    "\t\t\t\tcorrect += (predicted==labels).sum().item()  # Update correct predictions\n",
    "\n",
    "\t\tprint(f'Validation Accuracy: {100*correct/total:.3f} %')  # Print validation accuracy for the epoch\n",
    "\n",
    "# Save the fine-tuned model\n",
    "torch.save(model_ft.state_dict(), f'fashion_classifier_epochs_{num_epochs}.pth')  # Save the model's state dictionary"
   ]
  },
  {
   "cell_type": "markdown",
   "metadata": {},
   "source": [
    "### Model Evalauation"
   ]
  },
  {
   "cell_type": "code",
   "execution_count": null,
   "metadata": {},
   "outputs": [],
   "source": [
    "def evaluate(model, model_fpth, val_loader):\n",
    "\t# Load the saved model weights\n",
    "\tmodel.load_state_dict(torch.load(model_fpth, weights_only=True, map_location=device))\n",
    "\tmodel.eval()  # Set the model to evaluation mode\n",
    "\tcorrect = 0  # Initialize correct predictions counter\n",
    "\ttotal = 0  # Initialize total samples counter\n",
    "\twith torch.no_grad():  # Disable gradient calculation for validation\n",
    "\t\tfor images, labels in val_loader:\n",
    "\t\t\timages, labels = images.to(device), labels.to(device)  # Move images and labels to the device\n",
    "\t\t\toutputs = model(images)  # Forward pass: compute predicted outputs by passing inputs to the model\n",
    "\t\t\t_, predicted = torch.max(outputs.data, 1)  # Get the class label with the highest probability\n",
    "\t\t\ttotal += labels.size(0)  # Update total samples\n",
    "\t\t\tcorrect += (predicted == labels).sum().item()  # Update correct predictions\n",
    "\tprint(f'Validation Accuracy: {100*correct/total:.3f} %')\n"
   ]
  },
  {
   "cell_type": "code",
   "execution_count": null,
   "metadata": {},
   "outputs": [],
   "source": [
    "evaluate(\n",
    "  model=model_ft,\n",
    "  model_fpth=f'fashion_classifier_epochs_{num_epochs}.pth',\n",
    "  val_loader=val_loader,\n",
    ")"
   ]
  },
  {
   "cell_type": "markdown",
   "metadata": {
    "id": "P35aaWd1tfXj"
   },
   "source": [
    "Amazing! Let's now take a look at how our new model performs on the same images we tested earlier."
   ]
  },
  {
   "cell_type": "markdown",
   "metadata": {},
   "source": [
    "### Zero shot classification"
   ]
  },
  {
   "cell_type": "code",
   "execution_count": null,
   "metadata": {
    "colab": {
     "base_uri": "https://localhost:8080/",
     "height": 255
    },
    "id": "AV_bn6JWtbvi",
    "outputId": "5aaa4b34-c7f5-4330-cc7e-e5067d3a35b0"
   },
   "outputs": [],
   "source": [
    "\n",
    "# Define the indices for the three images\n",
    "# indices = [0, 2, 10]\n",
    "indices = [7, 120, 105]\n",
    "\n",
    "# Preprocess the image\n",
    "transform = transforms.Compose([\n",
    "\ttransforms.Resize((224, 224)),\n",
    "\ttransforms.ToTensor(),\n",
    "\ttransforms.Normalize((0.48145466, 0.4578275, 0.40821073), (0.26862954, 0.26130258, 0.27577711))\n",
    "])\n",
    "\n",
    "# Create a figure with subplots\n",
    "fig, axes = plt.subplots(1, len(indices), figsize=(15, 5))\n",
    "\n",
    "# Loop through the indices and process each image\n",
    "for i, idx in enumerate(indices):\n",
    "\t# Get the image and label from the dataset\n",
    "\titem = dataset[idx]\n",
    "\timage = item['image']\n",
    "\ttrue_label = item['subCategory']\n",
    "\n",
    "\t# Transform the image\n",
    "\timage_tensor = transform(image).unsqueeze(0).to(device)  # Add batch dimension and move to device\n",
    "\n",
    "\t# Perform inference\n",
    "\twith torch.no_grad():\n",
    "\t\toutput = model_ft(image_tensor)\n",
    "\t\t_, predicted_label_idx = torch.max(output, 1)\n",
    "\t\tpredicted_label = LABELs[predicted_label_idx.item()]\n",
    "\n",
    "\t# Display the image in the subplot\n",
    "\taxes[i].imshow(image)\n",
    "\taxes[i].set_title(f'GT: {true_label}\\nPredicted: {predicted_label}')\n",
    "\taxes[i].axis('off')\n",
    "\n",
    "# Show the plot\n",
    "plt.tight_layout()\n",
    "plt.show()"
   ]
  },
  {
   "cell_type": "markdown",
   "metadata": {
    "id": "TACuzDoKtssG"
   },
   "source": [
    "Super cool! Our newly fine-tuned CLIP model successfully predicts the labels for the three images."
   ]
  },
  {
   "cell_type": "markdown",
   "metadata": {
    "id": "jgIfqfIxtrq8"
   },
   "source": [
    "Why don't you test out different images and settings to see if you can get even better results!"
   ]
  },
  {
   "cell_type": "code",
   "execution_count": null,
   "metadata": {},
   "outputs": [],
   "source": [
    "my_img = Image.open(\"/home/farid/WS_Farid/ImACCESS/TEST_IMGs/COCO_val2014_000000000536.jpg\")\n",
    "tokenized_text = clip.tokenize(texts=LABELs).to(device)\n",
    "\n",
    "# Transform the image\n",
    "image_tensor = transform(my_img).unsqueeze(0).to(device)  # Add batch dimension and move to device\n",
    "\n",
    "# Perform inference\n",
    "with torch.no_grad():\n",
    "\toutput = model_ft(image_tensor)\n",
    "\t_, predicted_label_idx = torch.max(output, 1)\n",
    "\tpredicted_label = LABELs[predicted_label_idx.item()]\n",
    "\n",
    "print(predicted_label)"
   ]
  }
 ],
 "metadata": {
  "accelerator": "GPU",
  "colab": {
   "gpuType": "T4",
   "machine_shape": "hm",
   "provenance": []
  },
  "kernelspec": {
   "display_name": "py39",
   "language": "python",
   "name": "python3"
  },
  "language_info": {
   "codemirror_mode": {
    "name": "ipython",
    "version": 3
   },
   "file_extension": ".py",
   "mimetype": "text/x-python",
   "name": "python",
   "nbconvert_exporter": "python",
   "pygments_lexer": "ipython3",
   "version": "3.9.18"
  }
 },
 "nbformat": 4,
 "nbformat_minor": 0
}
