{
 "cells": [
  {
   "cell_type": "markdown",
   "metadata": {},
   "source": [
    "# Training Network\n",
    "\n",
    "In this notebook, we will train the CNN-RNN model for Image captioning\n",
    "\n",
    "CNN [ResNet](https://arxiv.org/pdf/1512.03385.pdf) model is used for feature extraction. "
   ]
  },
  {
   "cell_type": "code",
   "execution_count": 1,
   "metadata": {
    "scrolled": true
   },
   "outputs": [
    {
     "name": "stderr",
     "output_type": "stream",
     "text": [
      "[nltk_data] Downloading package punkt to /home/farid/nltk_data...\n",
      "[nltk_data]   Package punkt is already up-to-date!\n",
      "/home/farid/miniconda3/envs/py39/lib/python3.9/site-packages/torchvision/io/image.py:13: UserWarning: Failed to load image Python extension: '/home/farid/miniconda3/envs/py39/lib/python3.9/site-packages/torchvision/image.so: undefined symbol: _ZN3c1017RegisterOperatorsD1Ev'If you don't plan on using image functionality from `torchvision.io`, you can ignore this warning. Otherwise, there might be something wrong with your environment. Did you have `libjpeg` or `libpng` installed before building `torchvision` from source?\n",
      "  warn(\n"
     ]
    }
   ],
   "source": [
    "\n",
    "from data_loader import get_loader\n",
    "from data_loader_val import get_loader as val_get_loader\n",
    "from model import *\n",
    "\n",
    "import torch.nn as nn\n",
    "import torch.utils.data as data\n",
    "import torch\n",
    "import torch.nn as nn\n",
    "import torchvision.models as models\n",
    "\n",
    "from pycocotools.coco import COCO\n",
    "from torchvision import transforms\n",
    "from tqdm.notebook import tqdm\n",
    "from collections import defaultdict\n",
    "from nlp_utils import clean_sentence, bleu_score\n",
    "\n",
    "import math\n",
    "import json\n",
    "import os\n",
    "import sys\n",
    "import numpy as np\n",
    "\n",
    "%load_ext autoreload\n",
    "%autoreload 2"
   ]
  },
  {
   "cell_type": "code",
   "execution_count": 2,
   "metadata": {},
   "outputs": [
    {
     "name": "stdout",
     "output_type": "stream",
     "text": [
      "/home/farid farid\n"
     ]
    }
   ],
   "source": [
    "HOME: str = os.getenv('HOME') # echo $HOME\n",
    "USER: str = os.getenv('USER') # echo $USER\n",
    "print(HOME, USER)"
   ]
  },
  {
   "cell_type": "code",
   "execution_count": 3,
   "metadata": {},
   "outputs": [
    {
     "name": "stdout",
     "output_type": "stream",
     "text": [
      "['val2017.zip', 'train2017.zip', 'images', 'annotations_trainval2017.zip', 'annotations']\n"
     ]
    }
   ],
   "source": [
    "# dataset dir path\n",
    "cocoapi_dir = os.path.join(\"/scratch/project_2004072/IMG_Captioning\", \"MS_COCO\") if USER==\"alijanif\" else os.path.join(HOME, \"datasets/MS_COCO\")\n",
    "folders = [folder for folder in os.listdir(cocoapi_dir)]\n",
    "print(folders)"
   ]
  },
  {
   "cell_type": "code",
   "execution_count": 4,
   "metadata": {},
   "outputs": [],
   "source": [
    "batch_size = 128  # batch size\n",
    "vocab_threshold = 5  # minimum word count threshold\n",
    "vocab_from_file = True  # if True, load existing vocab file\n",
    "embed_size = 256  # dimensionality of image and word embeddings\n",
    "hidden_size = 512  # number of features in hidden state of the RNN decoder\n",
    "num_epochs = 1  # training epochs\n",
    "save_every = 1  # determines frequency of saving model weights\n",
    "print_every = 20  # determines window for printing average loss\n",
    "log_file = \"training_log.txt\"  # name of file with saved training loss and perplexity\n",
    "models_dir = os.makedirs(\"models\", exist_ok=True)\n",
    "encoder_fname = f\"encoder_{num_epochs}_nEpochs.pkl\"\n",
    "decoder_fname = f\"decoder_{num_epochs}_nEpochs.pkl\""
   ]
  },
  {
   "cell_type": "code",
   "execution_count": 5,
   "metadata": {},
   "outputs": [],
   "source": [
    "transform_train = transforms.Compose(\n",
    "    [\n",
    "        # smaller edge of image resized to 256\n",
    "        transforms.Resize(256),\n",
    "        # get 224x224 crop from random location\n",
    "        transforms.RandomCrop(224),\n",
    "        # horizontally flip image with probability=0.5\n",
    "        transforms.RandomHorizontalFlip(),\n",
    "        # convert the PIL Image to a tensor\n",
    "        transforms.ToTensor(),\n",
    "        transforms.Normalize(\n",
    "            (0.485, 0.456, 0.406),  # normalize image for pre-trained model\n",
    "            (0.229, 0.224, 0.225),\n",
    "        ),\n",
    "    ]\n",
    ")"
   ]
  },
  {
   "cell_type": "code",
   "execution_count": 6,
   "metadata": {},
   "outputs": [
    {
     "name": "stdout",
     "output_type": "stream",
     "text": [
      "Vocabulary successfully loaded from vocab.pkl file!\n",
      "loading annotations into memory...\n",
      "Done (t=0.48s)\n",
      "creating index...\n",
      "index created!\n",
      "Obtaining caption lengths...\n"
     ]
    },
    {
     "name": "stderr",
     "output_type": "stream",
     "text": [
      "100%|██████████| 591753/591753 [00:23<00:00, 25295.75it/s]\n"
     ]
    }
   ],
   "source": [
    "# Build data loader.\n",
    "data_loader = get_loader(\n",
    "    transform=transform_train,\n",
    "    mode=\"train\",\n",
    "    batch_size=batch_size,\n",
    "    vocab_threshold=vocab_threshold,\n",
    "    vocab_from_file=vocab_from_file,\n",
    "    cocoapi_loc=cocoapi_dir,\n",
    ")"
   ]
  },
  {
   "cell_type": "markdown",
   "metadata": {},
   "source": [
    "### CNN Encoder and RNN Decoder "
   ]
  },
  {
   "cell_type": "code",
   "execution_count": 8,
   "metadata": {},
   "outputs": [],
   "source": [
    "# The size of the vocabulary.\n",
    "vocab_size = len(data_loader.dataset.vocab)\n",
    "print(\"vocab size is : \",vocab_size)\n",
    "\n",
    "# Initializing the encoder and decoder\n",
    "encoder = EncoderCNN(embed_size)\n",
    "decoder = DecoderRNN(embed_size, hidden_size, vocab_size)\n",
    "\n",
    "# Move models to device\n",
    "device = torch.device(\"cuda\" if torch.cuda.is_available() else \"cpu\")\n",
    "encoder.to(device)\n",
    "decoder.to(device)"
   ]
  },
  {
   "cell_type": "code",
   "execution_count": 9,
   "metadata": {},
   "outputs": [
    {
     "name": "stdout",
     "output_type": "stream",
     "text": [
      "vocab size is :  11543\n"
     ]
    },
    {
     "name": "stderr",
     "output_type": "stream",
     "text": [
      "Downloading: \"https://download.pytorch.org/models/resnet50-11ad3fa6.pth\" to /home/farid/.cache/torch/hub/checkpoints/resnet50-11ad3fa6.pth\n",
      "100%|██████████| 97.8M/97.8M [00:28<00:00, 3.62MB/s]\n"
     ]
    }
   ],
   "source": [
    "# Defining the loss function\n",
    "criterion = (\n",
    "    nn.CrossEntropyLoss().cuda() if torch.cuda.is_available() else nn.CrossEntropyLoss()\n",
    ")\n",
    "\n",
    "# Specifying the learnable parameters of the mode\n",
    "params = list(decoder.parameters()) + list(encoder.embed.parameters())\n",
    "\n",
    "# Defining the optimize\n",
    "optimizer = torch.optim.Adam(params, lr=0.001)\n",
    "\n",
    "# Set the total number of training steps per epoc\n",
    "total_step = math.ceil(len(data_loader.dataset) / data_loader.batch_sampler.batch_size)"
   ]
  },
  {
   "cell_type": "code",
   "execution_count": 10,
   "metadata": {},
   "outputs": [
    {
     "name": "stdout",
     "output_type": "stream",
     "text": [
      "4624\n"
     ]
    }
   ],
   "source": [
    "print(total_step)"
   ]
  },
  {
   "cell_type": "markdown",
   "metadata": {},
   "source": [
    "## Training the Model\n"
   ]
  },
  {
   "cell_type": "code",
   "execution_count": 11,
   "metadata": {
    "scrolled": true
   },
   "outputs": [
    {
     "name": "stdout",
     "output_type": "stream",
     "text": [
      "Epoch [1/1], Step [20/4624], Loss: 4.8973, Perplexity: 133.9271\n",
      "Epoch [1/1], Step [40/4624], Loss: 4.9032, Perplexity: 134.7243\n",
      "Epoch [1/1], Step [60/4624], Loss: 4.3973, Perplexity: 81.2294\n",
      "Epoch [1/1], Step [80/4624], Loss: 3.9979, Perplexity: 54.4858\n",
      "Epoch [1/1], Step [100/4624], Loss: 3.9218, Perplexity: 50.4938\n",
      "Epoch [1/1], Step [120/4624], Loss: 4.0951, Perplexity: 60.0455\n",
      "Epoch [1/1], Step [140/4624], Loss: 3.6245, Perplexity: 37.5077\n",
      "Epoch [1/1], Step [160/4624], Loss: 3.9668, Perplexity: 52.8144\n",
      "Epoch [1/1], Step [180/4624], Loss: 3.4522, Perplexity: 31.5700\n",
      "Epoch [1/1], Step [200/4624], Loss: 3.4176, Perplexity: 30.4957\n",
      "Epoch [1/1], Step [220/4624], Loss: 3.6445, Perplexity: 38.2623\n",
      "Epoch [1/1], Step [240/4624], Loss: 3.8861, Perplexity: 48.7210\n",
      "Epoch [1/1], Step [260/4624], Loss: 3.5298, Perplexity: 34.1169\n",
      "Epoch [1/1], Step [280/4624], Loss: 3.4250, Perplexity: 30.7239\n",
      "Epoch [1/1], Step [300/4624], Loss: 3.1883, Perplexity: 24.2463\n",
      "Epoch [1/1], Step [320/4624], Loss: 3.1663, Perplexity: 23.7195\n",
      "Epoch [1/1], Step [340/4624], Loss: 3.2092, Perplexity: 24.7586\n",
      "Epoch [1/1], Step [360/4624], Loss: 3.2021, Perplexity: 24.5850\n",
      "Epoch [1/1], Step [380/4624], Loss: 3.6553, Perplexity: 38.6804\n",
      "Epoch [1/1], Step [400/4624], Loss: 3.4759, Perplexity: 32.3268\n",
      "Epoch [1/1], Step [420/4624], Loss: 3.3213, Perplexity: 27.6962\n",
      "Epoch [1/1], Step [440/4624], Loss: 3.9322, Perplexity: 51.0172\n",
      "Epoch [1/1], Step [460/4624], Loss: 3.4384, Perplexity: 31.1376\n",
      "Epoch [1/1], Step [480/4624], Loss: 3.6501, Perplexity: 38.4790\n",
      "Epoch [1/1], Step [500/4624], Loss: 3.1013, Perplexity: 22.2261\n",
      "Epoch [1/1], Step [520/4624], Loss: 2.9714, Perplexity: 19.5195\n",
      "Epoch [1/1], Step [540/4624], Loss: 3.2841, Perplexity: 26.6853\n",
      "Epoch [1/1], Step [560/4624], Loss: 3.1665, Perplexity: 23.7254\n",
      "Epoch [1/1], Step [580/4624], Loss: 3.0282, Perplexity: 20.6609\n",
      "Epoch [1/1], Step [600/4624], Loss: 2.8839, Perplexity: 17.8844\n",
      "Epoch [1/1], Step [620/4624], Loss: 3.1163, Perplexity: 22.5633\n",
      "Epoch [1/1], Step [640/4624], Loss: 2.7322, Perplexity: 15.3667\n",
      "Epoch [1/1], Step [660/4624], Loss: 3.0517, Perplexity: 21.1504\n",
      "Epoch [1/1], Step [680/4624], Loss: 2.6825, Perplexity: 14.6213\n",
      "Epoch [1/1], Step [700/4624], Loss: 2.8352, Perplexity: 17.0346\n",
      "Epoch [1/1], Step [720/4624], Loss: 3.1155, Perplexity: 22.5437\n",
      "Epoch [1/1], Step [740/4624], Loss: 2.6723, Perplexity: 14.4736\n",
      "Epoch [1/1], Step [760/4624], Loss: 2.5869, Perplexity: 13.2879\n",
      "Epoch [1/1], Step [780/4624], Loss: 2.6905, Perplexity: 14.7394\n",
      "Epoch [1/1], Step [800/4624], Loss: 2.7619, Perplexity: 15.8296\n",
      "Epoch [1/1], Step [820/4624], Loss: 2.5253, Perplexity: 12.4952\n",
      "Epoch [1/1], Step [840/4624], Loss: 2.7143, Perplexity: 15.0938\n",
      "Epoch [1/1], Step [860/4624], Loss: 3.2540, Perplexity: 25.8928\n",
      "Epoch [1/1], Step [880/4624], Loss: 2.6003, Perplexity: 13.4672\n",
      "Epoch [1/1], Step [900/4624], Loss: 2.7848, Perplexity: 16.1974\n",
      "Epoch [1/1], Step [920/4624], Loss: 2.4231, Perplexity: 11.2811\n",
      "Epoch [1/1], Step [940/4624], Loss: 3.0118, Perplexity: 20.3237\n",
      "Epoch [1/1], Step [960/4624], Loss: 2.8136, Perplexity: 16.6704\n",
      "Epoch [1/1], Step [980/4624], Loss: 2.7690, Perplexity: 15.9428\n",
      "Epoch [1/1], Step [1000/4624], Loss: 2.6428, Perplexity: 14.0521\n",
      "Epoch [1/1], Step [1020/4624], Loss: 2.6359, Perplexity: 13.9554\n",
      "Epoch [1/1], Step [1040/4624], Loss: 2.5674, Perplexity: 13.0315\n",
      "Epoch [1/1], Step [1060/4624], Loss: 2.5830, Perplexity: 13.2367\n",
      "Epoch [1/1], Step [1080/4624], Loss: 2.9496, Perplexity: 19.0989\n",
      "Epoch [1/1], Step [1100/4624], Loss: 2.5337, Perplexity: 12.6001\n",
      "Epoch [1/1], Step [1120/4624], Loss: 2.4816, Perplexity: 11.9606\n",
      "Epoch [1/1], Step [1140/4624], Loss: 2.3998, Perplexity: 11.0205\n",
      "Epoch [1/1], Step [1160/4624], Loss: 2.4818, Perplexity: 11.9625\n",
      "Epoch [1/1], Step [1180/4624], Loss: 2.4230, Perplexity: 11.2802\n",
      "Epoch [1/1], Step [1200/4624], Loss: 2.4403, Perplexity: 11.4765\n",
      "Epoch [1/1], Step [1220/4624], Loss: 2.4152, Perplexity: 11.1919\n",
      "Epoch [1/1], Step [1240/4624], Loss: 2.5971, Perplexity: 13.4241\n",
      "Epoch [1/1], Step [1260/4624], Loss: 2.3826, Perplexity: 10.8330\n",
      "Epoch [1/1], Step [1280/4624], Loss: 2.5592, Perplexity: 12.9255\n",
      "Epoch [1/1], Step [1300/4624], Loss: 2.3867, Perplexity: 10.8778\n",
      "Epoch [1/1], Step [1320/4624], Loss: 2.3700, Perplexity: 10.6972\n",
      "Epoch [1/1], Step [1340/4624], Loss: 2.8380, Perplexity: 17.0810\n",
      "Epoch [1/1], Step [1360/4624], Loss: 2.4090, Perplexity: 11.1223\n",
      "Epoch [1/1], Step [1380/4624], Loss: 2.4072, Perplexity: 11.1033\n",
      "Epoch [1/1], Step [1400/4624], Loss: 2.6191, Perplexity: 13.7229\n",
      "Epoch [1/1], Step [1420/4624], Loss: 2.5108, Perplexity: 12.3146\n",
      "Epoch [1/1], Step [1440/4624], Loss: 2.4612, Perplexity: 11.7187\n",
      "Epoch [1/1], Step [1460/4624], Loss: 2.6183, Perplexity: 13.7126\n",
      "Epoch [1/1], Step [1480/4624], Loss: 2.2148, Perplexity: 9.1595\n",
      "Epoch [1/1], Step [1500/4624], Loss: 2.3532, Perplexity: 10.5187\n",
      "Epoch [1/1], Step [1520/4624], Loss: 2.3779, Perplexity: 10.7824\n",
      "Epoch [1/1], Step [1540/4624], Loss: 2.4869, Perplexity: 12.0238\n",
      "Epoch [1/1], Step [1560/4624], Loss: 2.3294, Perplexity: 10.2714\n",
      "Epoch [1/1], Step [1580/4624], Loss: 2.3544, Perplexity: 10.5319\n",
      "Epoch [1/1], Step [1600/4624], Loss: 2.3774, Perplexity: 10.7770\n",
      "Epoch [1/1], Step [1620/4624], Loss: 2.1181, Perplexity: 8.3152\n",
      "Epoch [1/1], Step [1640/4624], Loss: 2.2182, Perplexity: 9.1905\n",
      "Epoch [1/1], Step [1660/4624], Loss: 2.4489, Perplexity: 11.5753\n",
      "Epoch [1/1], Step [1680/4624], Loss: 2.3064, Perplexity: 10.0386\n",
      "Epoch [1/1], Step [1700/4624], Loss: 2.3445, Perplexity: 10.4281\n",
      "Epoch [1/1], Step [1720/4624], Loss: 2.6480, Perplexity: 14.1251\n",
      "Epoch [1/1], Step [1740/4624], Loss: 2.3325, Perplexity: 10.3034\n",
      "Epoch [1/1], Step [1760/4624], Loss: 2.5705, Perplexity: 13.0728\n",
      "Epoch [1/1], Step [1780/4624], Loss: 2.7030, Perplexity: 14.9237\n",
      "Epoch [1/1], Step [1800/4624], Loss: 2.3338, Perplexity: 10.3174\n",
      "Epoch [1/1], Step [1820/4624], Loss: 2.5128, Perplexity: 12.3393\n",
      "Epoch [1/1], Step [1840/4624], Loss: 2.3166, Perplexity: 10.1413\n",
      "Epoch [1/1], Step [1860/4624], Loss: 2.1627, Perplexity: 8.6948\n",
      "Epoch [1/1], Step [1880/4624], Loss: 2.6122, Perplexity: 13.6284\n",
      "Epoch [1/1], Step [1900/4624], Loss: 2.2981, Perplexity: 9.9554\n",
      "Epoch [1/1], Step [1920/4624], Loss: 2.3552, Perplexity: 10.5397\n",
      "Epoch [1/1], Step [1940/4624], Loss: 2.2156, Perplexity: 9.1671\n",
      "Epoch [1/1], Step [1960/4624], Loss: 3.0563, Perplexity: 21.2480\n",
      "Epoch [1/1], Step [1980/4624], Loss: 2.2834, Perplexity: 9.8101\n",
      "Epoch [1/1], Step [2000/4624], Loss: 2.2365, Perplexity: 9.3605\n",
      "Epoch [1/1], Step [2020/4624], Loss: 2.1337, Perplexity: 8.4463\n",
      "Epoch [1/1], Step [2040/4624], Loss: 2.2089, Perplexity: 9.1057\n",
      "Epoch [1/1], Step [2060/4624], Loss: 2.2948, Perplexity: 9.9221\n",
      "Epoch [1/1], Step [2080/4624], Loss: 2.2639, Perplexity: 9.6206\n",
      "Epoch [1/1], Step [2100/4624], Loss: 2.4039, Perplexity: 11.0666\n",
      "Epoch [1/1], Step [2120/4624], Loss: 2.6008, Perplexity: 13.4739\n",
      "Epoch [1/1], Step [2140/4624], Loss: 2.1719, Perplexity: 8.7753\n",
      "Epoch [1/1], Step [2160/4624], Loss: 2.8206, Perplexity: 16.7865\n",
      "Epoch [1/1], Step [2180/4624], Loss: 2.5001, Perplexity: 12.1839\n",
      "Epoch [1/1], Step [2200/4624], Loss: 2.6494, Perplexity: 14.1452\n",
      "Epoch [1/1], Step [2220/4624], Loss: 2.2714, Perplexity: 9.6925\n",
      "Epoch [1/1], Step [2240/4624], Loss: 2.2608, Perplexity: 9.5905\n",
      "Epoch [1/1], Step [2260/4624], Loss: 2.0805, Perplexity: 8.0088\n",
      "Epoch [1/1], Step [2280/4624], Loss: 3.1181, Perplexity: 22.6039\n",
      "Epoch [1/1], Step [2300/4624], Loss: 2.1486, Perplexity: 8.5727\n",
      "Epoch [1/1], Step [2320/4624], Loss: 2.1661, Perplexity: 8.7239\n",
      "Epoch [1/1], Step [2340/4624], Loss: 2.0967, Perplexity: 8.1394\n",
      "Epoch [1/1], Step [2360/4624], Loss: 2.9059, Perplexity: 18.2824\n",
      "Epoch [1/1], Step [2380/4624], Loss: 2.2633, Perplexity: 9.6144\n",
      "Epoch [1/1], Step [2400/4624], Loss: 2.8161, Perplexity: 16.7114\n",
      "Epoch [1/1], Step [2420/4624], Loss: 2.2421, Perplexity: 9.4135\n",
      "Epoch [1/1], Step [2440/4624], Loss: 2.3071, Perplexity: 10.0453\n",
      "Epoch [1/1], Step [2460/4624], Loss: 2.3613, Perplexity: 10.6048\n",
      "Epoch [1/1], Step [2480/4624], Loss: 2.2549, Perplexity: 9.5347\n",
      "Epoch [1/1], Step [2500/4624], Loss: 2.2191, Perplexity: 9.1992\n",
      "Epoch [1/1], Step [2520/4624], Loss: 2.2267, Perplexity: 9.2692\n",
      "Epoch [1/1], Step [2540/4624], Loss: 2.5983, Perplexity: 13.4408\n",
      "Epoch [1/1], Step [2560/4624], Loss: 2.1854, Perplexity: 8.8938\n",
      "Epoch [1/1], Step [2580/4624], Loss: 2.7040, Perplexity: 14.9393\n",
      "Epoch [1/1], Step [2600/4624], Loss: 2.1425, Perplexity: 8.5203\n",
      "Epoch [1/1], Step [2620/4624], Loss: 2.1378, Perplexity: 8.4810\n",
      "Epoch [1/1], Step [2640/4624], Loss: 2.3145, Perplexity: 10.1202\n",
      "Epoch [1/1], Step [2660/4624], Loss: 2.1147, Perplexity: 8.2875\n",
      "Epoch [1/1], Step [2680/4624], Loss: 2.0828, Perplexity: 8.0266\n",
      "Epoch [1/1], Step [2700/4624], Loss: 2.2510, Perplexity: 9.4972\n",
      "Epoch [1/1], Step [2720/4624], Loss: 2.1172, Perplexity: 8.3082\n",
      "Epoch [1/1], Step [2740/4624], Loss: 2.0652, Perplexity: 7.8869\n",
      "Epoch [1/1], Step [2760/4624], Loss: 2.4733, Perplexity: 11.8612\n",
      "Epoch [1/1], Step [2780/4624], Loss: 2.1487, Perplexity: 8.5738\n",
      "Epoch [1/1], Step [2800/4624], Loss: 2.2331, Perplexity: 9.3290\n",
      "Epoch [1/1], Step [2820/4624], Loss: 2.2093, Perplexity: 9.1094\n",
      "Epoch [1/1], Step [2840/4624], Loss: 2.1825, Perplexity: 8.8682\n",
      "Epoch [1/1], Step [2860/4624], Loss: 2.1972, Perplexity: 9.0001\n",
      "Epoch [1/1], Step [2880/4624], Loss: 2.4203, Perplexity: 11.2488\n",
      "Epoch [1/1], Step [2900/4624], Loss: 2.1933, Perplexity: 8.9645\n",
      "Epoch [1/1], Step [2920/4624], Loss: 2.1635, Perplexity: 8.7017\n",
      "Epoch [1/1], Step [2940/4624], Loss: 2.0137, Perplexity: 7.4906\n",
      "Epoch [1/1], Step [2960/4624], Loss: 2.1824, Perplexity: 8.8674\n",
      "Epoch [1/1], Step [2980/4624], Loss: 2.2480, Perplexity: 9.4687\n",
      "Epoch [1/1], Step [3000/4624], Loss: 2.2618, Perplexity: 9.6003\n",
      "Epoch [1/1], Step [3020/4624], Loss: 2.1914, Perplexity: 8.9480\n",
      "Epoch [1/1], Step [3040/4624], Loss: 2.4237, Perplexity: 11.2876\n",
      "Epoch [1/1], Step [3060/4624], Loss: 2.6780, Perplexity: 14.5557\n",
      "Epoch [1/1], Step [3080/4624], Loss: 2.0908, Perplexity: 8.0917\n",
      "Epoch [1/1], Step [3100/4624], Loss: 2.2032, Perplexity: 9.0540\n",
      "Epoch [1/1], Step [3120/4624], Loss: 2.2013, Perplexity: 9.0372\n",
      "Epoch [1/1], Step [3140/4624], Loss: 2.1538, Perplexity: 8.6171\n",
      "Epoch [1/1], Step [3160/4624], Loss: 2.0397, Perplexity: 7.6885\n",
      "Epoch [1/1], Step [3180/4624], Loss: 2.1928, Perplexity: 8.9601\n",
      "Epoch [1/1], Step [3200/4624], Loss: 2.1280, Perplexity: 8.3976\n",
      "Epoch [1/1], Step [3220/4624], Loss: 2.1419, Perplexity: 8.5156\n",
      "Epoch [1/1], Step [3240/4624], Loss: 2.4142, Perplexity: 11.1805\n",
      "Epoch [1/1], Step [3260/4624], Loss: 2.0566, Perplexity: 7.8195\n",
      "Epoch [1/1], Step [3280/4624], Loss: 2.1608, Perplexity: 8.6785\n",
      "Epoch [1/1], Step [3300/4624], Loss: 2.3050, Perplexity: 10.0242\n",
      "Epoch [1/1], Step [3320/4624], Loss: 2.5620, Perplexity: 12.9622\n",
      "Epoch [1/1], Step [3340/4624], Loss: 2.0950, Perplexity: 8.1251\n",
      "Epoch [1/1], Step [3360/4624], Loss: 1.9985, Perplexity: 7.3779\n",
      "Epoch [1/1], Step [3380/4624], Loss: 2.1090, Perplexity: 8.2397\n",
      "Epoch [1/1], Step [3400/4624], Loss: 2.0002, Perplexity: 7.3904\n",
      "Epoch [1/1], Step [3420/4624], Loss: 2.1905, Perplexity: 8.9395\n",
      "Epoch [1/1], Step [3440/4624], Loss: 2.7740, Perplexity: 16.0229\n",
      "Epoch [1/1], Step [3460/4624], Loss: 2.1655, Perplexity: 8.7192\n",
      "Epoch [1/1], Step [3480/4624], Loss: 2.0381, Perplexity: 7.6763\n",
      "Epoch [1/1], Step [3500/4624], Loss: 2.4029, Perplexity: 11.0552\n",
      "Epoch [1/1], Step [3520/4624], Loss: 2.2953, Perplexity: 9.9269\n",
      "Epoch [1/1], Step [3540/4624], Loss: 2.0417, Perplexity: 7.7037\n",
      "Epoch [1/1], Step [3560/4624], Loss: 2.8489, Perplexity: 17.2680\n",
      "Epoch [1/1], Step [3580/4624], Loss: 2.0540, Perplexity: 7.7994\n",
      "Epoch [1/1], Step [3600/4624], Loss: 2.1990, Perplexity: 9.0157\n",
      "Epoch [1/1], Step [3620/4624], Loss: 2.1000, Perplexity: 8.1660\n",
      "Epoch [1/1], Step [3640/4624], Loss: 2.1439, Perplexity: 8.5323\n",
      "Epoch [1/1], Step [3660/4624], Loss: 2.0069, Perplexity: 7.4400\n",
      "Epoch [1/1], Step [3680/4624], Loss: 2.2725, Perplexity: 9.7035\n",
      "Epoch [1/1], Step [3700/4624], Loss: 2.1879, Perplexity: 8.9164\n",
      "Epoch [1/1], Step [3720/4624], Loss: 2.2721, Perplexity: 9.7001\n",
      "Epoch [1/1], Step [3740/4624], Loss: 2.3781, Perplexity: 10.7848\n",
      "Epoch [1/1], Step [3760/4624], Loss: 2.1495, Perplexity: 8.5808\n",
      "Epoch [1/1], Step [3780/4624], Loss: 2.1235, Perplexity: 8.3604\n",
      "Epoch [1/1], Step [3800/4624], Loss: 2.1435, Perplexity: 8.5288\n",
      "Epoch [1/1], Step [3820/4624], Loss: 2.2716, Perplexity: 9.6948\n",
      "Epoch [1/1], Step [3840/4624], Loss: 2.0532, Perplexity: 7.7925\n",
      "Epoch [1/1], Step [3860/4624], Loss: 2.1420, Perplexity: 8.5163\n",
      "Epoch [1/1], Step [3880/4624], Loss: 2.5359, Perplexity: 12.6279\n",
      "Epoch [1/1], Step [3900/4624], Loss: 2.3378, Perplexity: 10.3582\n",
      "Epoch [1/1], Step [3920/4624], Loss: 2.0071, Perplexity: 7.4415\n",
      "Epoch [1/1], Step [3940/4624], Loss: 2.0418, Perplexity: 7.7043\n",
      "Epoch [1/1], Step [3960/4624], Loss: 2.8404, Perplexity: 17.1227\n",
      "Epoch [1/1], Step [3980/4624], Loss: 2.5846, Perplexity: 13.2579\n",
      "Epoch [1/1], Step [4000/4624], Loss: 2.1219, Perplexity: 8.3467\n",
      "Epoch [1/1], Step [4020/4624], Loss: 2.0505, Perplexity: 7.7720\n",
      "Epoch [1/1], Step [4040/4624], Loss: 1.9481, Perplexity: 7.0154\n",
      "Epoch [1/1], Step [4060/4624], Loss: 2.1889, Perplexity: 8.9255\n",
      "Epoch [1/1], Step [4080/4624], Loss: 3.5548, Perplexity: 34.9806\n",
      "Epoch [1/1], Step [4100/4624], Loss: 2.3465, Perplexity: 10.4487\n",
      "Epoch [1/1], Step [4120/4624], Loss: 2.0103, Perplexity: 7.4659\n",
      "Epoch [1/1], Step [4140/4624], Loss: 2.6289, Perplexity: 13.8579\n",
      "Epoch [1/1], Step [4160/4624], Loss: 2.2096, Perplexity: 9.1122\n",
      "Epoch [1/1], Step [4180/4624], Loss: 2.0911, Perplexity: 8.0938\n",
      "Epoch [1/1], Step [4200/4624], Loss: 2.0169, Perplexity: 7.5154\n",
      "Epoch [1/1], Step [4220/4624], Loss: 2.1609, Perplexity: 8.6791\n",
      "Epoch [1/1], Step [4240/4624], Loss: 1.9711, Perplexity: 7.1784\n",
      "Epoch [1/1], Step [4260/4624], Loss: 2.2632, Perplexity: 9.6139\n",
      "Epoch [1/1], Step [4280/4624], Loss: 2.0889, Perplexity: 8.0760\n",
      "Epoch [1/1], Step [4300/4624], Loss: 2.4584, Perplexity: 11.6863\n",
      "Epoch [1/1], Step [4320/4624], Loss: 1.9980, Perplexity: 7.3743\n",
      "Epoch [1/1], Step [4340/4624], Loss: 2.2771, Perplexity: 9.7487\n",
      "Epoch [1/1], Step [4360/4624], Loss: 2.0524, Perplexity: 7.7869\n"
     ]
    }
   ],
   "source": [
    "# Open the training log file.\n",
    "f = open(log_file, \"w\")\n",
    "\n",
    "for epoch in range(1, num_epochs + 1):\n",
    "    for i_step in range(1, total_step + 1):\n",
    "        \n",
    "        # Randomly sample a caption length, and sample indices with that length.\n",
    "        indices = data_loader.dataset.get_train_indices()\n",
    "        # Create and assign a batch sampler to retrieve a batch with the sampled indices.\n",
    "        new_sampler = data.sampler.SubsetRandomSampler(indices=indices)\n",
    "        data_loader.batch_sampler.sampler = new_sampler\n",
    "\n",
    "        # Obtain the batch.\n",
    "        images, captions = next(iter(data_loader))\n",
    "\n",
    "        # Move batch of images and captions to GPU if CUDA is available.\n",
    "        images = images.to(device)\n",
    "        captions = captions.to(device)\n",
    "\n",
    "        # Zero the gradients.\n",
    "        decoder.zero_grad()\n",
    "        encoder.zero_grad()\n",
    "\n",
    "        # Passing the inputs through the CNN-RNN model\n",
    "        features = encoder(images)\n",
    "        outputs = decoder(features, captions)\n",
    "\n",
    "        # Calculating the batch loss.\n",
    "        loss = criterion(outputs.view(-1, vocab_size), captions.view(-1))\n",
    "\n",
    "        # Backwarding pass\n",
    "        loss.backward()\n",
    "\n",
    "        # Updating the parameters in the optimizer\n",
    "        optimizer.step()\n",
    "\n",
    "        # Getting training statistics\n",
    "        stats = (\n",
    "            f\"Epoch [{epoch}/{num_epochs}], Step [{i_step}/{total_step}], \"\n",
    "            f\"Loss: {loss.item():.4f}, Perplexity: {np.exp(loss.item()):.4f}\"\n",
    "        )\n",
    "\n",
    "        # Print training statistics to file.\n",
    "        f.write(stats + \"\\n\")\n",
    "        f.flush()\n",
    "\n",
    "        # Print training statistics (on different line).\n",
    "        if i_step % print_every == 0:\n",
    "            print(\"\\r\" + stats)\n",
    "\n",
    "    # Save the weights.\n",
    "    if epoch % save_every == 0:\n",
    "        torch.save(decoder.state_dict(), os.path.join(models_dir, decoder_fname))\n",
    "        torch.save(encoder.state_dict(), os.path.join(models_dir, encoder_fname))\n",
    "\n",
    "# Close the training log file.\n",
    "f.close()"
   ]
  },
  {
   "cell_type": "markdown",
   "metadata": {},
   "source": [
    "\n",
    "## Validating the Model using Bleu Score"
   ]
  },
  {
   "cell_type": "code",
   "execution_count": null,
   "metadata": {},
   "outputs": [],
   "source": [
    "transform_test = transforms.Compose(\n",
    "    [\n",
    "        transforms.Resize(224),\n",
    "        transforms.ToTensor(),\n",
    "        transforms.Normalize(\n",
    "            (0.485, 0.456, 0.406),  # normalize image for pre-trained model\n",
    "            (0.229, 0.224, 0.225),\n",
    "        ),\n",
    "    ]\n",
    ")\n",
    "\n",
    "#Create the data loader.\n",
    "val_data_loader = val_get_loader(\n",
    "    transform=transform_test, \n",
    "    mode=\"valid\", \n",
    "    cocoapi_loc=cocoapi_dir,\n",
    ")"
   ]
  },
  {
   "cell_type": "code",
   "execution_count": null,
   "metadata": {},
   "outputs": [],
   "source": []
  },
  {
   "cell_type": "code",
   "execution_count": null,
   "metadata": {},
   "outputs": [],
   "source": [
    "# Initialize the encoder and decoder.\n",
    "encoder = EncoderCNN(embed_size)\n",
    "decoder = DecoderRNN(embed_size, hidden_size, vocab_size)\n",
    "\n",
    "# Moving models to GPU if CUDA is available.\n",
    "device = torch.device(\"cuda\" if torch.cuda.is_available() else \"cpu\")\n",
    "encoder.to(device)\n",
    "decoder.to(device)\n",
    "\n",
    "# Loading the trained weights\n",
    "encoder.load_state_dict(torch.load(os.path.join(models_dir, encoder_fname)))\n",
    "decoder.load_state_dict(torch.load(os.path.join(models_dir, decoder_fname)))\n",
    "\n",
    "encoder.eval()\n",
    "decoder.eval()"
   ]
  },
  {
   "cell_type": "code",
   "execution_count": null,
   "metadata": {},
   "outputs": [],
   "source": [
    "# infer captions for all images\n",
    "pred_result = defaultdict(list)\n",
    "for img_id, img in tqdm(val_data_loader):\n",
    "    img = img.to(device)\n",
    "    with torch.no_grad():\n",
    "        features = encoder(img).unsqueeze(1)\n",
    "        output = decoder.sample(features)\n",
    "    sentence = clean_sentence(output, val_data_loader.dataset.vocab.idx2word)\n",
    "    pred_result[img_id.item()].append(sentence)"
   ]
  },
  {
   "cell_type": "code",
   "execution_count": 14,
   "metadata": {},
   "outputs": [],
   "source": [
    "with open(\n",
    "    #os.path.join(cocoapi_dir, \"cocoapi\", \"annotations/captions_val2014.json\"), \"r\"\n",
    "    os.path.join(cocoapi_dir, \"annotations/captions_val2017.json\"), \"r\"\n",
    ") as f:\n",
    "    caption = json.load(f)\n",
    "\n",
    "valid_annot = caption[\"annotations\"]\n",
    "valid_result = defaultdict(list)\n",
    "for i in valid_annot:\n",
    "    valid_result[i[\"image_id\"]].append(i[\"caption\"].lower())"
   ]
  },
  {
   "cell_type": "code",
   "execution_count": null,
   "metadata": {},
   "outputs": [],
   "source": [
    "list(valid_result.values())[:3]"
   ]
  },
  {
   "cell_type": "code",
   "execution_count": null,
   "metadata": {},
   "outputs": [],
   "source": [
    "list(pred_result.values())[:3]"
   ]
  },
  {
   "cell_type": "code",
   "execution_count": null,
   "metadata": {},
   "outputs": [],
   "source": [
    "bleu_score(true_sentences=valid_result, predicted_sentences=pred_result)"
   ]
  },
  {
   "cell_type": "markdown",
   "metadata": {},
   "source": [
    "Not a bad bleu score with only 3 epochs!"
   ]
  }
 ],
 "metadata": {
  "anaconda-cloud": {},
  "kernelspec": {
   "display_name": "py39",
   "language": "python",
   "name": "python3"
  },
  "language_info": {
   "codemirror_mode": {
    "name": "ipython",
    "version": 3
   },
   "file_extension": ".py",
   "mimetype": "text/x-python",
   "name": "python",
   "nbconvert_exporter": "python",
   "pygments_lexer": "ipython3",
   "version": "3.9.18"
  },
  "varInspector": {
   "cols": {
    "lenName": 16,
    "lenType": 16,
    "lenVar": 40
   },
   "kernels_config": {
    "python": {
     "delete_cmd_postfix": "",
     "delete_cmd_prefix": "del ",
     "library": "var_list.py",
     "varRefreshCmd": "print(var_dic_list())"
    },
    "r": {
     "delete_cmd_postfix": ") ",
     "delete_cmd_prefix": "rm(",
     "library": "var_list.r",
     "varRefreshCmd": "cat(var_dic_list()) "
    }
   },
   "types_to_exclude": [
    "module",
    "function",
    "builtin_function_or_method",
    "instance",
    "_Feature"
   ],
   "window_display": false
  }
 },
 "nbformat": 4,
 "nbformat_minor": 4
}
