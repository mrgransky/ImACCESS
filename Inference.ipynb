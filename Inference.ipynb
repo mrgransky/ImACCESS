{
 "cells": [
  {
   "cell_type": "markdown",
   "metadata": {},
   "source": [
    "# Inference\n",
    "\n",
    "In this notebook, we will use the trained model to generate captions for images in the test dataset.\n"
   ]
  },
  {
   "cell_type": "code",
   "execution_count": null,
   "metadata": {},
   "outputs": [],
   "source": [
    "from PIL import Image\n",
    "import torch\n",
    "from torchvision import transforms\n",
    "from model import *\n",
    "from nlp_utils import clean_sentence\n",
    "import os\n",
    "import pickle\n",
    "import matplotlib.pyplot as plt"
   ]
  },
  {
   "cell_type": "code",
   "execution_count": null,
   "metadata": {},
   "outputs": [],
   "source": [
    "# Define the device\n",
    "device = torch.device(\"cuda\" if torch.cuda.is_available() else \"cpu\")\n",
    "\n",
    "# Set the necessary parameters\n",
    "embed_size = 256  # Assuming it's the same as during training\n",
    "hidden_size = 512  # Assuming it's the same as during training\n",
    "vocab_file = \"vocab.pkl\"  # Assuming the name of the vocabulary file\n",
    "\n",
    "# Load the vocabulary\n",
    "with open(os.path.join(\"./data\", vocab_file), \"rb\") as f:\n",
    "    vocab = pickle.load(f)\n",
    "\n",
    "vocab_size = len(vocab)\n",
    "\n",
    "# Initialize the encoder and decoder.\n",
    "encoder = EncoderCNN(embed_size)\n",
    "decoder = DecoderRNN(embed_size, hidden_size, vocab_size)\n",
    "\n",
    "# Moving models to the appropriate device\n",
    "encoder.to(device)\n",
    "decoder.to(device)\n",
    "\n",
    "# Load the trained weights\n",
    "encoder_file = \"encoder-3.pkl\"  # Update with the appropriate file name\n",
    "decoder_file = \"decoder-3.pkl\"  # Update with the appropriate file name\n",
    "\n",
    "encoder.load_state_dict(torch.load(os.path.join(\"./models\", encoder_file)))\n",
    "decoder.load_state_dict(torch.load(os.path.join(\"./models\", decoder_file)))\n",
    "\n",
    "# Set models to evaluation mode\n",
    "encoder.eval()\n",
    "decoder.eval()"
   ]
  },
  {
   "cell_type": "code",
   "execution_count": null,
   "metadata": {},
   "outputs": [],
   "source": [
    "# Load the test image\n",
    "test_image_path = \"../test.jpg\"  # Replace with the path to your test image\n",
    "test_image = Image.open(test_image_path).convert(\"RGB\")\n",
    "\n",
    "# Apply transformations to the test image\n",
    "transform_test = transforms.Compose([\n",
    "    transforms.Resize(224),\n",
    "    transforms.ToTensor(),\n",
    "    transforms.Normalize(\n",
    "        (0.485, 0.456, 0.406), \n",
    "        (0.229, 0.224, 0.225),\n",
    "    ),\n",
    "])\n",
    "\n",
    "# Preprocess the test image\n",
    "test_image = transform_test(test_image).unsqueeze(0)  # Add batch dimension\n",
    "\n",
    "# Move the preprocessed image to the appropriate device\n",
    "test_image = test_image.to(device)\n",
    "\n",
    "# Pass the test image through the encoder\n",
    "with torch.no_grad():\n",
    "    features = encoder(test_image).unsqueeze(1)\n",
    "\n",
    "# Generate captions with the decoder\n",
    "with torch.no_grad():\n",
    "    output = decoder.sample(features)\n",
    "\n",
    "# Convert the output into a clean sentence\n",
    "caption = clean_sentence(output, vocab.idx2word)\n",
    "\n",
    "# Display the test image with the generated caption\n",
    "plt.imshow(Image.open(test_image_path))\n",
    "plt.axis('off')\n",
    "plt.title('Generated Caption: ' + caption)\n",
    "plt.show()"
   ]
  }
 ],
 "metadata": {
  "anaconda-cloud": {},
  "kernelspec": {
   "display_name": "Python 3 (ipykernel)",
   "language": "python",
   "name": "python3"
  },
  "language_info": {
   "codemirror_mode": {
    "name": "ipython",
    "version": 3
   },
   "file_extension": ".py",
   "mimetype": "text/x-python",
   "name": "python",
   "nbconvert_exporter": "python",
   "pygments_lexer": "ipython3",
   "version": "3.8.10"
  },
  "varInspector": {
   "cols": {
    "lenName": 16,
    "lenType": 16,
    "lenVar": 40
   },
   "kernels_config": {
    "python": {
     "delete_cmd_postfix": "",
     "delete_cmd_prefix": "del ",
     "library": "var_list.py",
     "varRefreshCmd": "print(var_dic_list())"
    },
    "r": {
     "delete_cmd_postfix": ") ",
     "delete_cmd_prefix": "rm(",
     "library": "var_list.r",
     "varRefreshCmd": "cat(var_dic_list()) "
    }
   },
   "types_to_exclude": [
    "module",
    "function",
    "builtin_function_or_method",
    "instance",
    "_Feature"
   ],
   "window_display": false
  }
 },
 "nbformat": 4,
 "nbformat_minor": 4
}
